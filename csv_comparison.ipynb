{
 "cells": [
  {
   "cell_type": "code",
   "execution_count": 4,
   "metadata": {},
   "outputs": [
    {
     "name": "stdout",
     "output_type": "stream",
     "text": [
      "/Users/valentinbast/uni/compelx_sys_modelling/project/adaptive_food_supply_network-main/csm_project_\n"
     ]
    }
   ],
   "source": [
    "import os\n",
    "print(os.getcwd())"
   ]
  },
  {
   "cell_type": "code",
   "execution_count": 6,
   "metadata": {},
   "outputs": [
    {
     "name": "stderr",
     "output_type": "stream",
     "text": [
      "/var/folders/fc/k0ssmt390m779swj1xmy_6lw0000gn/T/ipykernel_16398/3138355243.py:9: DtypeWarning: Columns (2,3,4,5,6,7,8,9,10,11,12,13,14,15,16,17,18,19,20,21,22,23,24,25,26,27,28,29,30,31,32,33,34,35,36,37,38,39,40,41,42,43,44,45,46,47,48,49,50,51,52,53,54,55,56,57,58,59,60,61,62,63,64,65,66,67,68,69,70,71,72,73,74,75,76,77,78,79,80,81,82,83,84,85,86,87,88,89,90,91,92,93,94,95,96,97,98,99,100,101,102,103,104,105,106,107,108,109,110,111,112,113,114,115,116,117,118,119,120,121,122,123,124) have mixed types. Specify dtype option on import or set low_memory=False.\n",
      "  df1 = pd.read_csv(file1)\n",
      "/var/folders/fc/k0ssmt390m779swj1xmy_6lw0000gn/T/ipykernel_16398/3138355243.py:10: DtypeWarning: Columns (2,3,4,5,6,7,8,9,10,11,12,13,14,15,16,17,18,19,20,21,22,23,24,25,26,27,28,29,30,31,32,33,34,35,36,37,38,39,40,41,42,43,44,45,46,47,48,49,50,51,52,53,54,55,56,57,58,59,60,61,62,63,64,65,66,67,68,69,70,71,72,73,74,75,76,77,78,79,80,81,82,83,84,85,86,87,88,89,90,91,92,93,94,95,96,97,98,99,100,101,102,103,104,105,106,107,108,109,110,111,112,113,114,115,116,117,118,119,120,121,122,123,124) have mixed types. Specify dtype option on import or set low_memory=False.\n",
      "  df2 = pd.read_csv(file2)\n"
     ]
    },
    {
     "name": "stdout",
     "output_type": "stream",
     "text": [
      "\n",
      "Data types in df1 after conversion:\n",
      "a_shock       float64\n",
      "Unnamed: 1    float64\n",
      "IND           float64\n",
      "IND.1         float64\n",
      "IND.2         float64\n",
      "               ...   \n",
      "IND.118       float64\n",
      "IND.119       float64\n",
      "IND.120       float64\n",
      "IND.121       float64\n",
      "IND.122       float64\n",
      "Length: 125, dtype: object\n",
      "\n",
      "Data types in df2 after conversion:\n",
      "a_shock       float64\n",
      "Unnamed: 1    float64\n",
      "IND           float64\n",
      "IND.1         float64\n",
      "IND.2         float64\n",
      "               ...   \n",
      "IND.118       float64\n",
      "IND.119       float64\n",
      "IND.120       float64\n",
      "IND.121       float64\n",
      "IND.122       float64\n",
      "Length: 125, dtype: object\n",
      "The CSV files have differences.\n",
      "Biggest differences by column:\n",
      "IND.80        2.852437e+09\n",
      "IND.38        1.688327e+09\n",
      "IND.108       1.440272e+09\n",
      "IND.51        4.781909e+08\n",
      "IND.87        1.911171e+08\n",
      "                  ...     \n",
      "IND.83        0.000000e+00\n",
      "IND.89        0.000000e+00\n",
      "IND.122       0.000000e+00\n",
      "a_shock                NaN\n",
      "Unnamed: 1             NaN\n",
      "Length: 125, dtype: float64\n",
      "\n",
      "Row with the largest difference in column 'IND.80':\n",
      "File1 value: 2054.5901042669298\n",
      "File2 value: 2852438634.892656\n",
      "Difference: 2852436580.3025517\n"
     ]
    }
   ],
   "source": [
    "import pandas as pd\n",
    "import numpy as np\n",
    "\n",
    "# Load the two CSV files\n",
    "\n",
    "file1 = \"evaluation/AL_pc-IND_comp.csv\"\n",
    "file2 = \"evaluation/AL-IND_comp.csv\"\n",
    "\n",
    "df1 = pd.read_csv(file1)\n",
    "df2 = pd.read_csv(file2)\n",
    "\n",
    "# Convert all columns to numeric where possible\n",
    "df1 = df1.apply(pd.to_numeric, errors='coerce')\n",
    "df2 = df2.apply(pd.to_numeric, errors='coerce')\n",
    "\n",
    "# Print data types after conversion\n",
    "print(\"\\nData types in df1 after conversion:\")\n",
    "print(df1.dtypes)\n",
    "print(\"\\nData types in df2 after conversion:\")\n",
    "print(df2.dtypes)\n",
    "\n",
    "# Check if the shapes are the same\n",
    "if df1.shape != df2.shape:\n",
    "    print(\"The CSV files have different shapes.\")\n",
    "else:\n",
    "    # Check if the content is the same\n",
    "    if df1.equals(df2):\n",
    "        print(\"The CSV files are identical.\")\n",
    "    else:\n",
    "        print(\"The CSV files have differences.\")\n",
    "        \n",
    "        # Find numerical columns\n",
    "        numerical_cols = df1.select_dtypes(include=[np.number]).columns\n",
    "        \n",
    "        if numerical_cols.empty:\n",
    "            print(\"No numerical columns found in the CSV files.\")\n",
    "        else:\n",
    "            # Calculate absolute differences for numerical columns\n",
    "            differences = (df1[numerical_cols] - df2[numerical_cols]).abs()\n",
    "            \n",
    "            if differences.empty or (differences == 0).all().all():\n",
    "                print(\"No differences found in numerical columns.\")\n",
    "            else:\n",
    "                # Find the maximum differences\n",
    "                max_differences = differences.max().sort_values(ascending=False)\n",
    "                \n",
    "                print(\"Biggest differences by column:\")\n",
    "                print(max_differences)\n",
    "\n",
    "                # Show rows with the largest differences\n",
    "                largest_diff_col = max_differences.idxmax()\n",
    "                largest_diff_row = differences[largest_diff_col].idxmax()\n",
    "                print(f\"\\nRow with the largest difference in column '{largest_diff_col}':\")\n",
    "                print(f\"File1 value: {df1.loc[largest_diff_row, largest_diff_col]}\")\n",
    "                print(f\"File2 value: {df2.loc[largest_diff_row, largest_diff_col]}\")\n",
    "                print(f\"Difference: {differences.loc[largest_diff_row, largest_diff_col]}\")"
   ]
  },
  {
   "cell_type": "code",
   "execution_count": null,
   "metadata": {},
   "outputs": [],
   "source": []
  }
 ],
 "metadata": {
  "kernelspec": {
   "display_name": "base",
   "language": "python",
   "name": "python3"
  },
  "language_info": {
   "codemirror_mode": {
    "name": "ipython",
    "version": 3
   },
   "file_extension": ".py",
   "mimetype": "text/x-python",
   "name": "python",
   "nbconvert_exporter": "python",
   "pygments_lexer": "ipython3",
   "version": "3.12.9"
  }
 },
 "nbformat": 4,
 "nbformat_minor": 2
}
