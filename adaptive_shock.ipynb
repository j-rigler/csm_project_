{
 "cells": [
  {
   "cell_type": "markdown",
   "id": "92c72db6",
   "metadata": {},
   "source": [
    "############# SHOCK ADAPTATION FOOD SUPPLY MODEL #############\n",
    "\n",
    "\n",
    " SOPHIA BAUM - 2024"
   ]
  },
  {
   "cell_type": "markdown",
   "id": "bb6fe2f3",
   "metadata": {},
   "source": [
    "## PARAMETERS ###"
   ]
  },
  {
   "cell_type": "code",
   "execution_count": 35,
   "id": "646866bb",
   "metadata": {},
   "outputs": [],
   "source": [
    "input_folder = 'input/'           # folder with parameters and input data\n",
    "output_folder = 'results/'        # folder to write results to"
   ]
  },
  {
   "cell_type": "code",
   "execution_count": 36,
   "id": "5072798d",
   "metadata": {},
   "outputs": [],
   "source": [
    "tau = 10                            # number of iterations\n",
    "compensation=False                 # turn adaptation on\n",
    "limit_abs_sim=1000                  # event limits\n",
    "limit_rel_sim=0.26\n",
    "limit_dev_sim=0.32"
   ]
  },
  {
   "cell_type": "code",
   "execution_count": 37,
   "id": "fc27ca63",
   "metadata": {},
   "outputs": [],
   "source": [
    "### IMPORT ###\n",
    "import warnings\n",
    "warnings.filterwarnings(\"ignore\")"
   ]
  },
  {
   "cell_type": "code",
   "execution_count": 38,
   "id": "adabd05e",
   "metadata": {},
   "outputs": [],
   "source": [
    "import pandas as pd\n",
    "from pandas import IndexSlice as idx"
   ]
  },
  {
   "cell_type": "code",
   "execution_count": 39,
   "id": "d31653e2",
   "metadata": {},
   "outputs": [],
   "source": [
    "import scipy.io as io\n",
    "import scipy.sparse as sprs"
   ]
  },
  {
   "cell_type": "code",
   "execution_count": 40,
   "id": "5ee00a54",
   "metadata": {},
   "outputs": [],
   "source": [
    "import numpy as np"
   ]
  },
  {
   "cell_type": "code",
   "execution_count": 41,
   "id": "b3313f18",
   "metadata": {},
   "outputs": [
    {
     "name": "stdout",
     "output_type": "stream",
     "text": [
      "/Users/valentinbast/uni/compelx_sys_modelling/project/adaptive_food_supply_network-main/csm_project_\n"
     ]
    }
   ],
   "source": [
    "import os\n",
    "print(os.getcwd())"
   ]
  },
  {
   "cell_type": "markdown",
   "id": "e4cbcce7",
   "metadata": {},
   "source": [
    "## LOADING DATA ###"
   ]
  },
  {
   "cell_type": "code",
   "execution_count": 42,
   "id": "6805793c",
   "metadata": {},
   "outputs": [],
   "source": [
    "# Load information\n",
    "io_codes = pd.read_csv(input_folder + 'io_codes_alph.csv').drop('Unnamed: 0', axis = 1)\n",
    "su_codes = pd.read_csv(input_folder+'su_codes_alph.csv').drop('Unnamed: 0', axis = 1)"
   ]
  },
  {
   "cell_type": "code",
   "execution_count": 43,
   "id": "38f015d1",
   "metadata": {},
   "outputs": [],
   "source": [
    "# Create single indexes\n",
    "areas = np.array(sorted(set(io_codes['area'])))\n",
    "items = np.array(sorted(set(io_codes['item'])))\n",
    "processes = np.array(sorted(set(su_codes['proc'])))"
   ]
  },
  {
   "cell_type": "code",
   "execution_count": 44,
   "id": "f5741ba1",
   "metadata": {},
   "outputs": [],
   "source": [
    "# Create multi indexes\n",
    "ai_index = pd.MultiIndex.from_product([areas, items])\n",
    "ap_index = pd.MultiIndex.from_product([areas, items])"
   ]
  },
  {
   "cell_type": "code",
   "execution_count": 45,
   "id": "365d2dc0",
   "metadata": {},
   "outputs": [],
   "source": [
    "# Load  further information on areas (countries)\n",
    "a_frame = pd.read_csv(input_folder+'a_frame.csv')"
   ]
  },
  {
   "cell_type": "code",
   "execution_count": 46,
   "id": "44c2b9c7",
   "metadata": {},
   "outputs": [],
   "source": [
    "# Counting\n",
    "Ni = len(items)         # number of items\n",
    "Np = len(processes)     # number of processes\n",
    "Na = len(areas)         # number of countries"
   ]
  },
  {
   "cell_type": "code",
   "execution_count": 47,
   "id": "852fc412",
   "metadata": {},
   "outputs": [],
   "source": [
    "# Create a vector of all ones for summation\n",
    "one_vec_proc = sprs.csr_matrix(np.ones(Na*Np))\n",
    "one_vec_proc = one_vec_proc.transpose()"
   ]
  },
  {
   "cell_type": "code",
   "execution_count": 48,
   "id": "025e929b",
   "metadata": {},
   "outputs": [],
   "source": [
    "one_vec_item = sprs.csr_matrix(np.ones(Na*Ni))\n",
    "one_vec_item = one_vec_item.transpose()"
   ]
  },
  {
   "cell_type": "code",
   "execution_count": 49,
   "id": "612d38e4",
   "metadata": {},
   "outputs": [],
   "source": [
    "# Load initial conditions\n",
    "vector_x0 = io.mmread(input_folder+'/sparse_x0.mtx')\n",
    "vector_startstock = io.mmread(input_folder+'/sparse_startstock.mtx')"
   ]
  },
  {
   "cell_type": "code",
   "execution_count": 50,
   "id": "da31a004",
   "metadata": {},
   "outputs": [],
   "source": [
    "# Load model parameters\n",
    "vector_eta_prod = io.mmread(input_folder+'/sparse_eta_prod.mtx')\n",
    "vector_eta_exp = io.mmread(input_folder+'/sparse_eta_exp.mtx')\n",
    "matrix_nu = io.mmread(input_folder+'/sparse_nu.mtx')\n",
    "matrix_alpha = io.mmread(input_folder+'/sparse_alpha.mtx')\n",
    "matrix_beta = io.mmread(input_folder+'/sparse_beta.mtx')\n",
    "matrix_trade = io.mmread(input_folder+'/sparse_trade.mtx')"
   ]
  },
  {
   "cell_type": "code",
   "execution_count": 51,
   "id": "11c63b7e",
   "metadata": {},
   "outputs": [],
   "source": [
    "# Turn data into sparse csr-format\n",
    "x0 = sprs.csr_matrix(vector_x0)                             # initial condition\n",
    "xstartstock = sprs.csr_matrix(vector_startstock)            # starting stock\n",
    "eta_prod = sprs.csr_matrix(vector_eta_prod)                 # allocation to production\n",
    "eta_exp = sprs.csr_matrix(vector_eta_exp)                   # allocation to trade\n",
    "eta_cons = one_vec_item - vector_eta_prod - vector_eta_exp  # allocation to neither production or trade (lost in model, summarized by consumption)\n",
    "alpha = sprs.csr_matrix(matrix_alpha)                       # conversion from input to output\n",
    "beta = sprs.csr_matrix(matrix_beta)                         # output for non-converting processes\n",
    "T = sprs.csr_matrix(matrix_trade)                           # fraction sent to each trading partner\n",
    "nu = sprs.csr_matrix(matrix_nu)                             # fraction allocated to a specific production process"
   ]
  },
  {
   "cell_type": "code",
   "execution_count": 52,
   "id": "9573521e",
   "metadata": {},
   "outputs": [],
   "source": [
    "# eliminate zeros from sparse matrices\n",
    "x0.eliminate_zeros()\n",
    "xstartstock.eliminate_zeros()\n",
    "eta_prod.eliminate_zeros()\n",
    "eta_exp.eliminate_zeros()\n",
    "eta_cons.eliminate_zeros()\n",
    "alpha.eliminate_zeros()\n",
    "beta.eliminate_zeros()\n",
    "T.eliminate_zeros()\n",
    "nu.eliminate_zeros()"
   ]
  },
  {
   "cell_type": "code",
   "execution_count": 53,
   "id": "f4d49314",
   "metadata": {},
   "outputs": [],
   "source": [
    "# Determine countries that are producers of specific items\n",
    "producer = (alpha@one_vec_proc) + (beta@one_vec_proc)\n",
    "producer = producer.toarray()\n",
    "producer = producer>0\n",
    "producer = pd.DataFrame(producer, index=ai_index, columns=['is_producer'])"
   ]
  },
  {
   "cell_type": "markdown",
   "id": "fbe37e9a",
   "metadata": {},
   "source": [
    "Load adaptation rules"
   ]
  },
  {
   "cell_type": "code",
   "execution_count": 54,
   "id": "e542ea02",
   "metadata": {},
   "outputs": [],
   "source": [
    "# Load transitions\n",
    "for v in ['import','export','alpha','beta','nu','eta_exp','eta_prod','eta_cons']:\n",
    "        # Load transitions\n",
    "        globals()['transition_'+v+'_multi'] = sprs.load_npz(input_folder+'transition_'+v+'_multi.npz')\n",
    "        globals()['transition_'+v+'_multi'].data[globals()['transition_'+v+'_multi'].data<0]=0\n",
    "\n",
    "        globals()['transition_'+v+'_rewire'] = sprs.load_npz(input_folder+'transition_'+v+'_rewire.npz')\n",
    "        globals()['transition_'+v+'_rewire'].data[globals()['transition_'+v+'_rewire'].data<0]=0\n",
    "        \n",
    "        # Kick-Out all zero entries\n",
    "        globals()['transition_'+v+'_multi'].eliminate_zeros()\n",
    "        globals()['transition_'+v+'_rewire'].eliminate_zeros()"
   ]
  },
  {
   "cell_type": "code",
   "execution_count": 55,
   "id": "f6621265",
   "metadata": {},
   "outputs": [],
   "source": [
    "#  Load subsitutability index\n",
    "substitutability_trade = sprs.load_npz(input_folder+'substitutability_trade.npz')\n",
    "substitutability_trade.eliminate_zeros()"
   ]
  },
  {
   "cell_type": "markdown",
   "id": "43aeeb03",
   "metadata": {},
   "source": [
    "## SIMULATION: BASELINE ###"
   ]
  },
  {
   "cell_type": "code",
   "execution_count": 56,
   "id": "af8d34f8",
   "metadata": {},
   "outputs": [],
   "source": [
    "# Prepare storage\n",
    "x = sprs.csr_matrix((Na*Ni,1))\n",
    "x_timetrace_base = np.zeros((Na*Ni, tau))"
   ]
  },
  {
   "cell_type": "code",
   "execution_count": 57,
   "id": "524d1d50",
   "metadata": {},
   "outputs": [],
   "source": [
    "# Set initial conditions\n",
    "x = x0                          "
   ]
  },
  {
   "cell_type": "code",
   "execution_count": 58,
   "id": "41470d51",
   "metadata": {},
   "outputs": [],
   "source": [
    "# Iterate dynamics\n",
    "for t in range(0,tau):          \n",
    "\n",
    "    x = (alpha @ (nu @ (eta_prod.multiply(x))) + (beta @ one_vec_proc))  + T @ (eta_exp.multiply(x))\n",
    "\n",
    "    if t==0:\n",
    "        x = x+xstartstock\n",
    "\n",
    "    x_timetrace_base[:,t] = x.toarray()[:, 0]"
   ]
  },
  {
   "cell_type": "code",
   "execution_count": 59,
   "id": "a10789db",
   "metadata": {},
   "outputs": [],
   "source": [
    "# Store\n",
    "xbase = x.toarray()[:,0]\n",
    "X = pd.DataFrame(xbase,index=ai_index,columns=['base'])\n",
    "X.index.names = ['area','item']\n",
    "X.columns.names = ['scenario']"
   ]
  },
  {
   "cell_type": "code",
   "execution_count": 60,
   "id": "6c434bda",
   "metadata": {},
   "outputs": [],
   "source": [
    "# save\n",
    "X.to_csv(output_folder+'base.csv')"
   ]
  },
  {
   "cell_type": "code",
   "execution_count": 61,
   "id": "2a24c341",
   "metadata": {
    "lines_to_next_cell": 2
   },
   "outputs": [
    {
     "name": "stdout",
     "output_type": "stream",
     "text": [
      "Baseline scenario done.\n"
     ]
    }
   ],
   "source": [
    "# output\n",
    "print('Baseline scenario done.')"
   ]
  },
  {
   "cell_type": "markdown",
   "id": "ad2813e3",
   "metadata": {},
   "source": [
    "## SIMULATION: SHOCK ADAPTATION ###"
   ]
  },
  {
   "cell_type": "code",
   "execution_count": 62,
   "id": "f2f3013e",
   "metadata": {},
   "outputs": [
    {
     "name": "stdout",
     "output_type": "stream",
     "text": [
      "Shocked Scenario: 5.73%\r"
     ]
    },
    {
     "ename": "KeyboardInterrupt",
     "evalue": "",
     "output_type": "error",
     "traceback": [
      "\u001b[31m---------------------------------------------------------------------------\u001b[39m",
      "\u001b[31mKeyboardInterrupt\u001b[39m                         Traceback (most recent call last)",
      "\u001b[36mCell\u001b[39m\u001b[36m \u001b[39m\u001b[32mIn[62]\u001b[39m\u001b[32m, line 43\u001b[39m\n\u001b[32m     40\u001b[39m o[shock_id] = \u001b[32m0\u001b[39m\n\u001b[32m     42\u001b[39m \u001b[38;5;66;03m# Trade\u001b[39;00m\n\u001b[32m---> \u001b[39m\u001b[32m43\u001b[39m h =  T_shock @ (eta_exp_shock.multiply(xs))\n\u001b[32m     45\u001b[39m \u001b[38;5;66;03m# Summation \u001b[39;00m\n\u001b[32m     46\u001b[39m xs = o + h\n",
      "\u001b[36mFile \u001b[39m\u001b[32m~/miniconda3/lib/python3.12/site-packages/scipy/sparse/_base.py:732\u001b[39m, in \u001b[36m_spbase.__matmul__\u001b[39m\u001b[34m(self, other)\u001b[39m\n\u001b[32m    729\u001b[39m \u001b[38;5;28;01mif\u001b[39;00m isscalarlike(other):\n\u001b[32m    730\u001b[39m     \u001b[38;5;28;01mraise\u001b[39;00m \u001b[38;5;167;01mValueError\u001b[39;00m(\u001b[33m\"\u001b[39m\u001b[33mScalar operands are not allowed, \u001b[39m\u001b[33m\"\u001b[39m\n\u001b[32m    731\u001b[39m                      \u001b[33m\"\u001b[39m\u001b[33muse \u001b[39m\u001b[33m'\u001b[39m\u001b[33m*\u001b[39m\u001b[33m'\u001b[39m\u001b[33m instead\u001b[39m\u001b[33m\"\u001b[39m)\n\u001b[32m--> \u001b[39m\u001b[32m732\u001b[39m \u001b[38;5;28;01mreturn\u001b[39;00m \u001b[38;5;28mself\u001b[39m._matmul_dispatch(other)\n",
      "\u001b[36mFile \u001b[39m\u001b[32m~/miniconda3/lib/python3.12/site-packages/scipy/sparse/_base.py:636\u001b[39m, in \u001b[36m_spbase._matmul_dispatch\u001b[39m\u001b[34m(self, other)\u001b[39m\n\u001b[32m    632\u001b[39m     \u001b[38;5;28;01mif\u001b[39;00m N != other.shape[\u001b[32m0\u001b[39m]:\n\u001b[32m    633\u001b[39m         \u001b[38;5;28;01mraise\u001b[39;00m \u001b[38;5;167;01mValueError\u001b[39;00m(\n\u001b[32m    634\u001b[39m             \u001b[33mf\u001b[39m\u001b[33m\"\u001b[39m\u001b[38;5;132;01m{\u001b[39;00merr_prefix\u001b[38;5;132;01m}\u001b[39;00m\u001b[33m (n,k=\u001b[39m\u001b[38;5;132;01m{\u001b[39;00mN\u001b[38;5;132;01m}\u001b[39;00m\u001b[33m),(k=\u001b[39m\u001b[38;5;132;01m{\u001b[39;00mother.shape[\u001b[32m0\u001b[39m]\u001b[38;5;132;01m}\u001b[39;00m\u001b[33m,m)->(n,m)\u001b[39m\u001b[33m\"\u001b[39m\n\u001b[32m    635\u001b[39m         )\n\u001b[32m--> \u001b[39m\u001b[32m636\u001b[39m     \u001b[38;5;28;01mreturn\u001b[39;00m \u001b[38;5;28mself\u001b[39m._matmul_sparse(other)\n\u001b[32m    638\u001b[39m \u001b[38;5;66;03m# If it's a list or whatever, treat it like an array\u001b[39;00m\n\u001b[32m    639\u001b[39m other_a = np.asanyarray(other)\n",
      "\u001b[36mFile \u001b[39m\u001b[32m~/miniconda3/lib/python3.12/site-packages/scipy/sparse/_compressed.py:570\u001b[39m, in \u001b[36m_cs_matrix._matmul_sparse\u001b[39m\u001b[34m(self, other)\u001b[39m\n\u001b[32m    566\u001b[39m idx_dtype = \u001b[38;5;28mself\u001b[39m._get_index_dtype((\u001b[38;5;28mself\u001b[39m.indptr, \u001b[38;5;28mself\u001b[39m.indices,\n\u001b[32m    567\u001b[39m                              other.indptr, other.indices))\n\u001b[32m    569\u001b[39m fn = \u001b[38;5;28mgetattr\u001b[39m(_sparsetools, \u001b[38;5;28mself\u001b[39m.format + \u001b[33m'\u001b[39m\u001b[33m_matmat_maxnnz\u001b[39m\u001b[33m'\u001b[39m)\n\u001b[32m--> \u001b[39m\u001b[32m570\u001b[39m nnz = fn(M, N,\n\u001b[32m    571\u001b[39m          np.asarray(\u001b[38;5;28mself\u001b[39m.indptr, dtype=idx_dtype),\n\u001b[32m    572\u001b[39m          np.asarray(\u001b[38;5;28mself\u001b[39m.indices, dtype=idx_dtype),\n\u001b[32m    573\u001b[39m          np.asarray(other.indptr, dtype=idx_dtype),\n\u001b[32m    574\u001b[39m          np.asarray(other.indices, dtype=idx_dtype))\n\u001b[32m    575\u001b[39m \u001b[38;5;28;01mif\u001b[39;00m nnz == \u001b[32m0\u001b[39m:\n\u001b[32m    576\u001b[39m     \u001b[38;5;28;01mif\u001b[39;00m new_shape == ():\n",
      "\u001b[31mKeyboardInterrupt\u001b[39m: "
     ]
    }
   ],
   "source": [
    "# iteration over all countries that can be shocked\n",
    "for ait, a_shock in enumerate(areas):\n",
    "\n",
    "    XS = pd.DataFrame(index=ai_index,columns=pd.MultiIndex.from_product([[a_shock],items]))\n",
    "    XS.index.names = ['area','item']\n",
    "    XS.columns.names = ['shock_area','shock_item']\n",
    "    \n",
    "    # iteration over all items that can be shocked\n",
    "    for iit,i_shock in enumerate(items):\n",
    "\n",
    "        if producer.loc[(a_shock,i_shock),'is_producer']:\n",
    "\n",
    "            # Find the shocked country and item in the index\n",
    "            shock_id = list(ai_index.values).index((a_shock,i_shock))\n",
    "\n",
    "            # Initialize\n",
    "            xs_timetrace = np.zeros((Na*Ni, tau))\n",
    "            rl_timetrace = np.zeros((Na*Ni, tau))\n",
    "            al_timetrace = np.zeros((Na*Ni, tau))\n",
    "            xs = x0\n",
    "\n",
    "            alpha_shock = alpha.copy()\n",
    "            beta_shock = beta.copy()\n",
    "            nu_shock = nu.copy()\n",
    "            eta_exp_shock = eta_exp.copy()\n",
    "            eta_prod_shock = eta_prod.copy()\n",
    "            eta_cons_shock = eta_cons.copy()\n",
    "            T_shock = T.copy()\n",
    "\n",
    "            for t in range(0,tau):\n",
    "\n",
    "                # Production\n",
    "                o = (alpha_shock @ (nu_shock @ (eta_prod_shock.multiply(xs))) + (beta_shock @ one_vec_proc))\n",
    "                \n",
    "                # Start Stock\n",
    "                if t == 0:\n",
    "                    o = o+xstartstock\n",
    "               \n",
    "                # Shock\n",
    "                o[shock_id] = 0\n",
    "                \n",
    "                # Trade\n",
    "                h =  T_shock @ (eta_exp_shock.multiply(xs))\n",
    "                \n",
    "                # Summation \n",
    "                xs = o + h\n",
    "\n",
    "                xs_timetrace[:, t] = xs.toarray()[:, 0]\n",
    "\n",
    "                # Relative loss\n",
    "                rl = sprs.csr_matrix(np.nan_to_num(1-xs/sprs.csr_matrix(x_timetrace_base[:, t]).T, nan = 0))\n",
    "                rl.data[rl.data<-1] = -1\n",
    "                rl_timetrace[:, t] = rl.toarray()[:, 0]\n",
    "\n",
    "                # Absolute loss\n",
    "                al = sprs.csr_matrix(np.nan_to_num(sprs.csr_matrix(x_timetrace_base[:,t]).T-xs, nan = 0))\n",
    "                al_timetrace[:, t] = al.toarray()[:, 0]\n",
    "        \n",
    "                # Check for events\n",
    "        \n",
    "                if t == 1 and compensation: #step where parameters are updated due to shock\n",
    "        \n",
    "                    change_rl = set(np.where(rl.toarray()[:,0]>limit_rel_sim)[0])\n",
    "                    change_al = set(np.where(al.toarray()[:,0]>limit_abs_sim)[0])\n",
    "                    change = np.array(list(change_rl.intersection(change_al)))\n",
    "                    mask = np.isin(np.arange(Na*Ni), change)\n",
    "        \n",
    "                    alpha_shock[mask, :] = (alpha[mask, :].multiply(transition_alpha_multi[mask, :])+transition_alpha_rewire[mask, :]).multiply(rl[mask])\n",
    "                    mask_2=(alpha_shock.sum(axis = 0).A1>0) & ((alpha_shock.sum(axis = 0).A1<alpha.sum(axis = 0).A1*0.99) | (alpha_shock.sum(axis = 0).A1>alpha.sum(axis = 0).A1*1.01))\n",
    "                    alpha_shock[:,mask_2] = alpha_shock[:,mask_2].multiply(alpha.sum(axis = 0).A1[mask_2]/alpha_shock.sum(axis = 0).A1[mask_2])\n",
    "                   \n",
    "                    beta_shock[mask, :] = (beta[mask, :].multiply(transition_beta_multi[mask, :])+transition_beta_rewire[mask, :]).multiply(rl[mask])\n",
    "                    mask_3=(beta_shock.sum(axis = 0).A1>0) & ((beta_shock.sum(axis = 0).A1<beta.sum(axis = 0).A1*0.99) | (beta_shock.sum(axis = 0).A1>beta.sum(axis = 0).A1*1.01))\n",
    "                    beta_shock[:,mask_3] = beta_shock[:,mask_3].multiply(beta.sum(axis = 0).A1[mask_3]/beta_shock.sum(axis = 0).A1[mask_3])\n",
    "                    \n",
    "                    nu_shock[:, mask] = (nu[:, mask].multiply(transition_nu_multi[:, mask])+transition_nu_rewire[:, mask]).multiply(rl[mask].T)\n",
    "                    mask_4 = (nu_shock.sum(axis = 0).A1>0) & ((nu_shock.sum(axis = 0).A1<0.99) | (nu_shock.sum(axis = 0).A1>1.01))\n",
    "                    nu_shock[:, mask_4] = nu_shock[:, mask_4]/nu_shock.sum(axis = 0).A1[mask_4]\n",
    "        \n",
    "                    eta_exp_shock[mask, :] = (eta_exp[mask, :].multiply(transition_eta_exp_multi[mask, :])+transition_eta_exp_rewire[mask, :]).multiply(rl[mask])\n",
    "        \n",
    "                    eta_prod_shock[mask, :] = (eta_prod[mask, :].multiply(transition_eta_prod_multi[mask, :])+transition_eta_prod_rewire[mask, :]).multiply(rl[mask])\n",
    "        \n",
    "                    eta_cons_shock[mask, :] = (eta_cons[mask, :].multiply(transition_eta_cons_multi[mask, :])+transition_eta_cons_rewire[mask, :]).multiply(rl[mask])\n",
    "                    \n",
    "                    faktor=eta_exp_shock[mask, :]+eta_prod_shock[mask, :]+eta_cons_shock[mask, :]\n",
    "                    eta_exp_shock[mask, :]=eta_exp_shock[mask, :]/faktor\n",
    "                    eta_prod_shock[mask, :]=eta_prod_shock[mask, :]/faktor\n",
    "                    eta_cons_shock[mask, :]=eta_cons_shock[mask, :]/faktor\n",
    "        \n",
    "                    T_shock[mask, :] = (T[mask, :].multiply(transition_import_multi[mask, :])+transition_import_rewire[mask, :]).multiply(rl[mask])\n",
    "        \n",
    "                    T_shock[:, mask] = (T[:, mask].multiply(transition_export_multi[:, mask])+transition_export_rewire[:, mask]).multiply(rl[mask].T)\n",
    "                    \n",
    "                    mask_5 = (T_shock.sum(axis = 0).A1>0) & ((T_shock.sum(axis = 0).A1<0.99) | (T_shock.sum(axis = 0).A1>1.01))\n",
    "                    T_shock[:, mask_5] = T_shock[:, mask_5] / T_shock.sum(axis = 0).A1[mask_5]\n",
    "        \n",
    "                if t == 2 and compensation: #step for substitutability\n",
    "        \n",
    "                    change_rl = set(np.where(rl.toarray()[:,0]>=limit_rel_sim)[0])\n",
    "                    change_al = set(np.where(al.toarray()[:,0]>=limit_abs_sim)[0])\n",
    "                    change = np.array(list(change_rl.intersection(change_al)))\n",
    "                    mask_subs = np.isin(np.arange(Na*Ni), change)\n",
    "        \n",
    "                    mask_subs_2 = substitutability_trade[mask_subs].nonzero()[1]\n",
    "        \n",
    "                    T_shock[mask_subs_2, :] = T_shock[mask_subs_2, :].multiply(sprs.csr_matrix(substitutability_trade[mask_subs].data+1).T)\n",
    "        \n",
    "                    mask_subs_3 = (T_shock.sum(axis = 0).A1>0) & ((T_shock.sum(axis = 0).A1<0.99) | (T_shock.sum(axis = 0).A1>1.01))\n",
    "                    T_shock[:, mask_subs_3] = T_shock[:, mask_subs_3] / T_shock.sum(axis = 0).A1[mask_subs_3]\n",
    "\n",
    "            XS.loc[idx[:,:],(a_shock,i_shock)] = xs.toarray()\n",
    "        \n",
    "        else:\n",
    "            XS.loc[idx[:,:],(a_shock,i_shock)] = xbase\n",
    "\n",
    "    # Save\n",
    "    a_shock_index = a_frame[a_frame['area'] == a_shock].index[0]\n",
    "    if compensation:\n",
    "        XS.to_csv(output_folder+a_frame.loc[a_shock_index,'code']+'_comp.csv')\n",
    "    else:\n",
    "        XS.to_csv(output_folder+a_frame.loc[a_shock_index,'code']+'_no_comp.csv')\n",
    "\n",
    "    # Progress\n",
    "    print(f'Shocked Scenario: {100*ait/Na:.2f}%',end='\\r')\n",
    "\n",
    "print(f'Shocked scenario done')"
   ]
  }
 ],
 "metadata": {
  "jupytext": {
   "cell_metadata_filter": "-all",
   "main_language": "python",
   "notebook_metadata_filter": "-all"
  },
  "kernelspec": {
   "display_name": "base",
   "language": "python",
   "name": "python3"
  },
  "language_info": {
   "codemirror_mode": {
    "name": "ipython",
    "version": 3
   },
   "file_extension": ".py",
   "mimetype": "text/x-python",
   "name": "python",
   "nbconvert_exporter": "python",
   "pygments_lexer": "ipython3",
   "version": "3.12.9"
  }
 },
 "nbformat": 4,
 "nbformat_minor": 5
}
