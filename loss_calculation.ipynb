{
 "cells": [
  {
   "cell_type": "markdown",
   "id": "7ba400cf",
   "metadata": {},
   "source": [
    "############# SHOCK ADAPTATION FOOD SUPPLY MODEL #############\n",
    "\n",
    "\n",
    " SOPHIA BAUM - 2024"
   ]
  },
  {
   "cell_type": "code",
   "execution_count": 1,
   "id": "0c9d1ed8",
   "metadata": {},
   "outputs": [],
   "source": [
    "tau = 10                            # number of iterations\n",
    "compensation=True                 # turn adaptation on\n",
    "limit_abs_sim=1000                  # event limits\n",
    "limit_rel_sim=0.26\n",
    "limit_dev_sim=0.32"
   ]
  },
  {
   "cell_type": "code",
   "execution_count": 2,
   "id": "ddb2a82e",
   "metadata": {},
   "outputs": [],
   "source": [
    "### IMPORT ###\n",
    "import warnings\n",
    "warnings.filterwarnings(\"ignore\")"
   ]
  },
  {
   "cell_type": "code",
   "execution_count": 3,
   "id": "1db11502",
   "metadata": {},
   "outputs": [],
   "source": [
    "import pandas as pd\n",
    "from pandas import IndexSlice as idx"
   ]
  },
  {
   "cell_type": "code",
   "execution_count": 4,
   "id": "68247167",
   "metadata": {},
   "outputs": [],
   "source": [
    "import scipy.io as io\n",
    "import scipy.sparse as sprs"
   ]
  },
  {
   "cell_type": "code",
   "execution_count": 5,
   "id": "13bdbe6e",
   "metadata": {},
   "outputs": [],
   "source": [
    "import numpy as np"
   ]
  },
  {
   "cell_type": "code",
   "execution_count": 6,
   "id": "c647852d",
   "metadata": {},
   "outputs": [
    {
     "name": "stdout",
     "output_type": "stream",
     "text": [
      "/Users/valentinbast/uni/compelx_sys_modelling/project/adaptive_food_supply_network-main/csm_project_\n"
     ]
    }
   ],
   "source": [
    "import os\n",
    "print(os.getcwd())"
   ]
  },
  {
   "cell_type": "markdown",
   "id": "188c6cab",
   "metadata": {},
   "source": [
    "## PARAMETERS ###"
   ]
  },
  {
   "cell_type": "code",
   "execution_count": 7,
   "id": "efee3e3d",
   "metadata": {},
   "outputs": [],
   "source": [
    "input_folder = 'input/'                 # folder with parameters\n",
    "output_folder =  'results/'             # folder to write results to\n",
    "losses = 'evaluation/'                  # folder to store the refined results to"
   ]
  },
  {
   "cell_type": "code",
   "execution_count": 8,
   "id": "4027c3b4",
   "metadata": {},
   "outputs": [],
   "source": [
    "a_shock = 'IND'"
   ]
  },
  {
   "cell_type": "code",
   "execution_count": 9,
   "id": "b448a16d",
   "metadata": {
    "lines_to_next_cell": 2
   },
   "outputs": [],
   "source": [
    "a_frame = pd.read_csv(input_folder+'a_frame.csv')\n",
    "area_value = a_frame.loc[a_frame['code'] == a_shock, 'code'].values[0]"
   ]
  },
  {
   "cell_type": "markdown",
   "id": "9c70cf84",
   "metadata": {},
   "source": [
    "## LOADING DATA ###"
   ]
  },
  {
   "cell_type": "code",
   "execution_count": 10,
   "id": "5f518a03",
   "metadata": {},
   "outputs": [],
   "source": [
    "# Load information\n",
    "io_codes = pd.read_csv(input_folder+'io_codes_alph.csv').drop('Unnamed: 0', axis = 1)\n",
    "su_codes = pd.read_csv(input_folder+'su_codes_alph.csv').drop('Unnamed: 0', axis = 1)"
   ]
  },
  {
   "cell_type": "code",
   "execution_count": 11,
   "id": "2a1b400b",
   "metadata": {},
   "outputs": [],
   "source": [
    "# Create single indexes\n",
    "areas = np.array(sorted(set(io_codes['area'])))\n",
    "items = np.array(sorted(set(io_codes['item'])))\n",
    "processes = np.array(sorted(set(su_codes['proc'])))"
   ]
  },
  {
   "cell_type": "code",
   "execution_count": 12,
   "id": "b537a8f9",
   "metadata": {},
   "outputs": [],
   "source": [
    "# Create multi indexes\n",
    "ai_index = pd.MultiIndex.from_product([areas, items])\n",
    "ap_index = pd.MultiIndex.from_product([areas, items])"
   ]
  },
  {
   "cell_type": "code",
   "execution_count": 13,
   "id": "bdd50cd1",
   "metadata": {},
   "outputs": [],
   "source": [
    "# Load  further information on countries\n",
    "a_frame = pd.read_csv(input_folder+'a_frame.csv')"
   ]
  },
  {
   "cell_type": "code",
   "execution_count": 14,
   "id": "4d0d9bc1",
   "metadata": {},
   "outputs": [],
   "source": [
    "# Load the result of the shocked simulation\n",
    "X = pd.read_csv(output_folder+'base.csv', index_col=[0,1], header=[0])\n",
    "XS_comp = pd.read_csv(output_folder + area_value + '_comp.csv', index_col=[0, 1], header=[0, 1])\n",
    "XS_no_comp = pd.read_csv(output_folder+area_value + '_no_comp.csv', index_col=[0,1], header=[0,1])"
   ]
  },
  {
   "cell_type": "code",
   "execution_count": 15,
   "id": "e3f86cc3",
   "metadata": {},
   "outputs": [
    {
     "name": "stdout",
     "output_type": "stream",
     "text": [
      "                                   India_Abaca  India_Alcohol, Non-Food  \\\n",
      "area        item                                                          \n",
      "Afghanistan Abaca                     0.000000                 0.000000   \n",
      "            Alcohol, Non-Food      2025.485805              1747.200753   \n",
      "            Apples and products  273405.028019            273405.028019   \n",
      "            Asses                     0.000000                 0.000000   \n",
      "            Bananas               97000.991410             97000.991410   \n",
      "\n",
      "                                 India_Apples and products    India_Asses  \\\n",
      "area        item                                                            \n",
      "Afghanistan Abaca                                 0.000000       0.000000   \n",
      "            Alcohol, Non-Food                  2025.387167    2025.485805   \n",
      "            Apples and products              273384.140065  273405.028019   \n",
      "            Asses                                 0.000000       0.000000   \n",
      "            Bananas                           97000.991410   97000.991410   \n",
      "\n",
      "                                 India_Bananas  India_Barley and products  \\\n",
      "area        item                                                            \n",
      "Afghanistan Abaca                     0.000000                   0.000000   \n",
      "            Alcohol, Non-Food      2025.486365                2024.101512   \n",
      "            Apples and products  273402.957633              273405.028019   \n",
      "            Asses                     0.000000                   0.000000   \n",
      "            Bananas               89312.895022               97000.991410   \n",
      "\n",
      "                                   India_Beans     India_Beer  \\\n",
      "area        item                                                \n",
      "Afghanistan Abaca                     0.000000       0.000000   \n",
      "            Alcohol, Non-Food      2025.486523    2025.485805   \n",
      "            Apples and products  273405.028066  273405.028019   \n",
      "            Asses                     0.000000       0.000000   \n",
      "            Bananas               97000.991410   97000.991410   \n",
      "\n",
      "                                 India_Beverages, Alcoholic  \\\n",
      "area        item                                              \n",
      "Afghanistan Abaca                                  0.000000   \n",
      "            Alcohol, Non-Food                   2025.485805   \n",
      "            Apples and products               273405.028019   \n",
      "            Asses                                  0.000000   \n",
      "            Bananas                            97000.991410   \n",
      "\n",
      "                                 India_Beverages, Fermented  ...  \\\n",
      "area        item                                             ...   \n",
      "Afghanistan Abaca                                  0.000000  ...   \n",
      "            Alcohol, Non-Food                   2025.485805  ...   \n",
      "            Apples and products               273405.028019  ...   \n",
      "            Asses                                  0.000000  ...   \n",
      "            Bananas                            97000.991410  ...   \n",
      "\n",
      "                                 India_Sweet potatoes  \\\n",
      "area        item                                        \n",
      "Afghanistan Abaca                            0.000000   \n",
      "            Alcohol, Non-Food             2025.485812   \n",
      "            Apples and products         273405.028019   \n",
      "            Asses                            0.000000   \n",
      "            Bananas                      97000.991410   \n",
      "\n",
      "                                 India_Sweeteners, Other  \\\n",
      "area        item                                           \n",
      "Afghanistan Abaca                               0.000000   \n",
      "            Alcohol, Non-Food                2025.485805   \n",
      "            Apples and products            273405.028019   \n",
      "            Asses                               0.000000   \n",
      "            Bananas                         97000.991410   \n",
      "\n",
      "                                 India_Tea (including mate)  India_Tobacco  \\\n",
      "area        item                                                             \n",
      "Afghanistan Abaca                                  0.000000       0.000000   \n",
      "            Alcohol, Non-Food                   2025.485805    2025.485805   \n",
      "            Apples and products               273405.028019  273405.028019   \n",
      "            Asses                                  0.000000       0.000000   \n",
      "            Bananas                            97000.991410   97000.991410   \n",
      "\n",
      "                                 India_Tomatoes and products  \\\n",
      "area        item                                               \n",
      "Afghanistan Abaca                                   0.000000   \n",
      "            Alcohol, Non-Food                    2025.486645   \n",
      "            Apples and products                273405.028087   \n",
      "            Asses                                   0.000000   \n",
      "            Bananas                             97000.991410   \n",
      "\n",
      "                                 India_Vegetables, Other  \\\n",
      "area        item                                           \n",
      "Afghanistan Abaca                               0.000000   \n",
      "            Alcohol, Non-Food                2025.486608   \n",
      "            Apples and products            273405.028079   \n",
      "            Asses                               0.000000   \n",
      "            Bananas                         97000.991410   \n",
      "\n",
      "                                 India_Wheat and products     India_Wine  \\\n",
      "area        item                                                           \n",
      "Afghanistan Abaca                                0.000000       0.000000   \n",
      "            Alcohol, Non-Food                 2025.468768    2025.485805   \n",
      "            Apples and products             273405.028019  273405.028019   \n",
      "            Asses                                0.000000       0.000000   \n",
      "            Bananas                          97000.991410   97000.991410   \n",
      "\n",
      "                                 India_Wool (Clean Eq.)     India_Yams  \n",
      "area        item                                                        \n",
      "Afghanistan Abaca                              0.000000       0.000000  \n",
      "            Alcohol, Non-Food               2025.485805    2025.485805  \n",
      "            Apples and products           273405.028019  273405.028019  \n",
      "            Asses                              0.000000       0.000000  \n",
      "            Bananas                        97000.991410   97000.991410  \n",
      "\n",
      "[5 rows x 123 columns]\n",
      "                                   India_Abaca  India_Alcohol, Non-Food  \\\n",
      "area        item                                                          \n",
      "Afghanistan Abaca                     0.000000                 0.000000   \n",
      "            Alcohol, Non-Food      2025.485805              2019.650571   \n",
      "            Apples and products  273405.028019            273405.028019   \n",
      "            Asses                     0.000000                 0.000000   \n",
      "            Bananas               97000.991410             97000.991410   \n",
      "\n",
      "                                 India_Apples and products    India_Asses  \\\n",
      "area        item                                                            \n",
      "Afghanistan Abaca                                 0.000000       0.000000   \n",
      "            Alcohol, Non-Food                  2025.392804    2025.485805   \n",
      "            Apples and products              273405.010222  273405.028019   \n",
      "            Asses                                 0.000000       0.000000   \n",
      "            Bananas                           97000.991410   97000.991410   \n",
      "\n",
      "                                 India_Bananas  India_Barley and products  \\\n",
      "area        item                                                            \n",
      "Afghanistan Abaca                     0.000000                   0.000000   \n",
      "            Alcohol, Non-Food      2025.485805                2024.128643   \n",
      "            Apples and products  273405.028019              273405.028019   \n",
      "            Asses                     0.000000                   0.000000   \n",
      "            Bananas               89313.210019               97000.991410   \n",
      "\n",
      "                                   India_Beans     India_Beer  \\\n",
      "area        item                                                \n",
      "Afghanistan Abaca                     0.000000       0.000000   \n",
      "            Alcohol, Non-Food      2025.485805    2025.485805   \n",
      "            Apples and products  273405.028019  273405.028019   \n",
      "            Asses                     0.000000       0.000000   \n",
      "            Bananas               97000.991410   97000.991410   \n",
      "\n",
      "                                 India_Beverages, Alcoholic  \\\n",
      "area        item                                              \n",
      "Afghanistan Abaca                                  0.000000   \n",
      "            Alcohol, Non-Food                   2025.485805   \n",
      "            Apples and products               273405.028019   \n",
      "            Asses                                  0.000000   \n",
      "            Bananas                            97000.991410   \n",
      "\n",
      "                                 India_Beverages, Fermented  ...  \\\n",
      "area        item                                             ...   \n",
      "Afghanistan Abaca                                  0.000000  ...   \n",
      "            Alcohol, Non-Food                   2025.485805  ...   \n",
      "            Apples and products               273405.028019  ...   \n",
      "            Asses                                  0.000000  ...   \n",
      "            Bananas                            97000.991410  ...   \n",
      "\n",
      "                                 India_Sweet potatoes  \\\n",
      "area        item                                        \n",
      "Afghanistan Abaca                            0.000000   \n",
      "            Alcohol, Non-Food             2025.485805   \n",
      "            Apples and products         273405.028019   \n",
      "            Asses                            0.000000   \n",
      "            Bananas                      97000.991410   \n",
      "\n",
      "                                 India_Sweeteners, Other  \\\n",
      "area        item                                           \n",
      "Afghanistan Abaca                               0.000000   \n",
      "            Alcohol, Non-Food                2025.485805   \n",
      "            Apples and products            273405.028019   \n",
      "            Asses                               0.000000   \n",
      "            Bananas                         97000.991410   \n",
      "\n",
      "                                 India_Tea (including mate)  India_Tobacco  \\\n",
      "area        item                                                             \n",
      "Afghanistan Abaca                                  0.000000       0.000000   \n",
      "            Alcohol, Non-Food                   2025.485805    2025.485805   \n",
      "            Apples and products               273405.028019  273405.028019   \n",
      "            Asses                                  0.000000       0.000000   \n",
      "            Bananas                            97000.991410   97000.991410   \n",
      "\n",
      "                                 India_Tomatoes and products  \\\n",
      "area        item                                               \n",
      "Afghanistan Abaca                                   0.000000   \n",
      "            Alcohol, Non-Food                    2025.485805   \n",
      "            Apples and products                273405.028019   \n",
      "            Asses                                   0.000000   \n",
      "            Bananas                             97000.991410   \n",
      "\n",
      "                                 India_Vegetables, Other  \\\n",
      "area        item                                           \n",
      "Afghanistan Abaca                               0.000000   \n",
      "            Alcohol, Non-Food                2025.485805   \n",
      "            Apples and products            273405.028019   \n",
      "            Asses                               0.000000   \n",
      "            Bananas                         97000.991410   \n",
      "\n",
      "                                 India_Wheat and products     India_Wine  \\\n",
      "area        item                                                           \n",
      "Afghanistan Abaca                                0.000000       0.000000   \n",
      "            Alcohol, Non-Food                 2025.433395    2025.485805   \n",
      "            Apples and products             273405.028019  273405.028019   \n",
      "            Asses                                0.000000       0.000000   \n",
      "            Bananas                          97000.991410   97000.991410   \n",
      "\n",
      "                                 India_Wool (Clean Eq.)     India_Yams  \n",
      "area        item                                                        \n",
      "Afghanistan Abaca                              0.000000       0.000000  \n",
      "            Alcohol, Non-Food               2025.485805    2025.485805  \n",
      "            Apples and products           273405.028019  273405.028019  \n",
      "            Asses                              0.000000       0.000000  \n",
      "            Bananas                        97000.991410   97000.991410  \n",
      "\n",
      "[5 rows x 123 columns]\n"
     ]
    }
   ],
   "source": [
    "# Flatten multi-level columns\n",
    "XS_comp.columns = ['_'.join(col).strip() for col in XS_comp.columns.values]\n",
    "XS_no_comp.columns = ['_'.join(col).strip() for col in XS_no_comp.columns.values]\n",
    "\n",
    "# Inspect the flattened DataFrame\n",
    "print(XS_comp.head())\n",
    "print(XS_no_comp.head())"
   ]
  },
  {
   "cell_type": "markdown",
   "id": "084fea81",
   "metadata": {},
   "source": [
    "## COMPUTATIONS ###"
   ]
  },
  {
   "cell_type": "code",
   "execution_count": 16,
   "id": "3ded5c40",
   "metadata": {},
   "outputs": [],
   "source": [
    "# Compute relative loss\n",
    "RL_no_comp = XS_no_comp.copy()\n",
    "RL_comp = XS_comp.copy()\n",
    "for col in XS_no_comp.columns:\n",
    "    RL_no_comp[col] = ((X['base'] - RL_no_comp[col])/X['base']).fillna(0)\n",
    "    RL_comp[col] = ((X['base'] - RL_comp[col])/X['base']).fillna(0)  \n",
    "RL_no_comp[RL_no_comp < -1] = -1\n",
    "RL_comp[RL_comp < -1] = -1"
   ]
  },
  {
   "cell_type": "code",
   "execution_count": 17,
   "id": "bccbbfbb",
   "metadata": {},
   "outputs": [],
   "source": [
    "# Setup a dataframe for the relative loss\n",
    "RL_no_comp.columns = pd.MultiIndex.from_product([[a_shock],items])\n",
    "RL_no_comp.columns.names = ['a_shock','i_shock']\n",
    "RL_no_comp.index.names = ['a_receive','i_receive'] \n",
    "RL_comp.columns = pd.MultiIndex.from_product([[a_shock],items])\n",
    "RL_comp.columns.names = ['a_shock','i_shock']\n",
    "RL_comp.index.names = ['a_receive','i_receive'] "
   ]
  },
  {
   "cell_type": "code",
   "execution_count": 18,
   "id": "48f6d1af",
   "metadata": {
    "lines_to_next_cell": 2
   },
   "outputs": [],
   "source": [
    "# Save\n",
    "RL_no_comp.to_csv(losses+'RL-'+ area_value+'_no_comp.csv')\n",
    "RL_comp.to_csv(losses+'RL-'+ area_value +'_comp.csv')"
   ]
  },
  {
   "cell_type": "code",
   "execution_count": 19,
   "id": "b15f6b68",
   "metadata": {},
   "outputs": [],
   "source": [
    "# Compute absolute loss\n",
    "AL_no_comp = XS_no_comp.copy()\n",
    "AL_comp = XS_comp.copy()\n",
    "for col in XS_no_comp.columns:\n",
    "    AL_no_comp[col] = X['base'] - XS_no_comp[col]\n",
    "    AL_comp[col] = X['base'] - XS_comp[col]"
   ]
  },
  {
   "cell_type": "code",
   "execution_count": 20,
   "id": "cc3dcb5a",
   "metadata": {},
   "outputs": [],
   "source": [
    "# Setup a dataframe for the absolute loss\n",
    "AL_no_comp.columns = pd.MultiIndex.from_product([[a_shock],items])\n",
    "AL_no_comp.columns.names = ['a_shock','i_shock']\n",
    "AL_no_comp.index.names = ['a_receive','i_receive'] \n",
    "AL_comp.columns = pd.MultiIndex.from_product([[a_shock],items])\n",
    "AL_comp.columns.names = ['a_shock','i_shock']\n",
    "AL_comp.index.names = ['a_receive','i_receive']  "
   ]
  },
  {
   "cell_type": "code",
   "execution_count": 21,
   "id": "046ea846",
   "metadata": {
    "lines_to_next_cell": 2
   },
   "outputs": [],
   "source": [
    "# Save\n",
    "AL_no_comp.to_csv(losses+'AL-'+ area_value +'_no_comp.csv')\n",
    "AL_comp.to_csv(losses+'AL-'+ area_value +'_comp.csv')"
   ]
  },
  {
   "cell_type": "code",
   "execution_count": 22,
   "id": "09f5e3ee",
   "metadata": {},
   "outputs": [],
   "source": [
    "# Ensure MultiIndex for AL_no_comp and AL_comp\n",
    "AL_no_comp.index.names = ['area', 'item']\n",
    "AL_comp.index.names = ['area', 'item']"
   ]
  },
  {
   "cell_type": "code",
   "execution_count": 23,
   "id": "dc323bfc",
   "metadata": {},
   "outputs": [],
   "source": [
    "# Step 1: Reset index\n",
    "AL_no_comp_reset = AL_no_comp.reset_index()\n",
    "AL_comp_reset = AL_comp.reset_index()\n",
    "\n",
    "# Step 2: Flatten MultiIndex columns if needed\n",
    "if isinstance(AL_no_comp_reset.columns, pd.MultiIndex):\n",
    "    AL_no_comp_reset.columns = ['_'.join(filter(None, map(str, col))) for col in AL_no_comp_reset.columns]\n",
    "\n",
    "if isinstance(AL_comp_reset.columns, pd.MultiIndex):\n",
    "    AL_comp_reset.columns = ['_'.join(filter(None, map(str, col))) for col in AL_comp_reset.columns]\n",
    "\n",
    "# Step 3: Merge using correct column\n",
    "if 'area' in AL_no_comp_reset.columns and 'area' in a_frame.columns:\n",
    "    AL_no_comp_pc = AL_no_comp_reset.merge(\n",
    "        a_frame[['area', 'population']], left_on='area', right_on='area', how='left'\n",
    "    )\n",
    "    AL_comp_pc = AL_comp_reset.merge(\n",
    "        a_frame[['area', 'population']], left_on='area', right_on='area', how='left'\n",
    "    )\n",
    "else:\n",
    "    raise KeyError(\"Missing 'a_receive' in AL_* or 'area' in a_frame.\")"
   ]
  },
  {
   "cell_type": "code",
   "execution_count": 24,
   "id": "712dbb42",
   "metadata": {},
   "outputs": [],
   "source": [
    "# Step 1: Flatten columns if MultiIndex\n",
    "if isinstance(AL_no_comp_pc.columns, pd.MultiIndex):\n",
    "    AL_no_comp_pc.columns = ['_'.join(filter(None, map(str, col))) for col in AL_no_comp_pc.columns]\n",
    "if isinstance(AL_comp_pc.columns, pd.MultiIndex):\n",
    "    AL_comp_pc.columns = ['_'.join(filter(None, map(str, col))) for col in AL_comp_pc.columns]\n",
    "\n",
    "# Step 2: Compute absolute loss per capita\n",
    "# This excludes non-numeric or unrelated columns\n",
    "for col in AL_no_comp.columns:\n",
    "    col_flat = '_'.join(filter(None, map(str, col))) if isinstance(col, tuple) else col\n",
    "    if col_flat in AL_no_comp_pc.columns:\n",
    "        AL_no_comp_pc[col_flat] = AL_no_comp_pc[col_flat] / AL_no_comp_pc['population']\n",
    "        AL_comp_pc[col_flat] = AL_comp_pc[col_flat] / AL_comp_pc['population']\n",
    "\n",
    "# Step 3: Set index and scale by 1000\n",
    "AL_no_comp_pc = (\n",
    "    AL_no_comp_pc\n",
    "    .set_index(['area', 'item'])  # assumes 'item' is available after reset_index\n",
    "    .drop(columns='population')\n",
    "    * 1000\n",
    ")\n",
    "\n",
    "AL_comp_pc = (\n",
    "    AL_comp_pc\n",
    "    .set_index(['area', 'item'])\n",
    "    .drop(columns='population')\n",
    "    * 1000\n",
    ")"
   ]
  },
  {
   "cell_type": "code",
   "execution_count": 25,
   "id": "f7f5eb46",
   "metadata": {},
   "outputs": [],
   "source": [
    "# Setup a dataframe for the absolute loss\n",
    "AL_no_comp_pc.columns = pd.MultiIndex.from_product([[a_shock],items])\n",
    "AL_no_comp_pc.columns.names = ['a_shock','i_shock']\n",
    "AL_no_comp_pc.index.names = ['a_receive','i_receive'] \n",
    "AL_no_comp_pc.columns = pd.MultiIndex.from_product([[a_shock],items])\n",
    "AL_no_comp_pc.columns.names = ['a_shock','i_shock']\n",
    "AL_no_comp_pc.index.names = ['a_receive','i_receive']  "
   ]
  },
  {
   "cell_type": "code",
   "execution_count": 26,
   "id": "7aa5ea9b",
   "metadata": {},
   "outputs": [],
   "source": [
    "# Save\n",
    "AL_no_comp_pc.to_csv(losses+'AL_pc-'+ a_shock +'_no_comp.csv')\n",
    "AL_no_comp_pc.to_csv(losses+'AL_pc-'+ a_shock +'_comp.csv')"
   ]
  }
 ],
 "metadata": {
  "jupytext": {
   "cell_metadata_filter": "-all",
   "main_language": "python",
   "notebook_metadata_filter": "-all"
  },
  "kernelspec": {
   "display_name": "base",
   "language": "python",
   "name": "python3"
  },
  "language_info": {
   "codemirror_mode": {
    "name": "ipython",
    "version": 3
   },
   "file_extension": ".py",
   "mimetype": "text/x-python",
   "name": "python",
   "nbconvert_exporter": "python",
   "pygments_lexer": "ipython3",
   "version": "3.12.9"
  }
 },
 "nbformat": 4,
 "nbformat_minor": 5
}
