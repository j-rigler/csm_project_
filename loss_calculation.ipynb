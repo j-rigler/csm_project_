{
 "cells": [
  {
   "cell_type": "markdown",
   "id": "7ba400cf",
   "metadata": {},
   "source": [
    "############# SHOCK ADAPTATION FOOD SUPPLY MODEL #############\n",
    "\n",
    "\n",
    " SOPHIA BAUM - 2024"
   ]
  },
  {
   "cell_type": "code",
   "execution_count": null,
   "id": "0c9d1ed8",
   "metadata": {},
   "outputs": [],
   "source": [
    "tau = 10                            # number of iterations\n",
    "compensation=True                 # turn adaptation on\n",
    "limit_abs_sim=1000                  # event limits\n",
    "limit_rel_sim=0.26\n",
    "limit_dev_sim=0.32"
   ]
  },
  {
   "cell_type": "code",
   "execution_count": null,
   "id": "ddb2a82e",
   "metadata": {},
   "outputs": [],
   "source": [
    "### IMPORT ###\n",
    "import warnings\n",
    "warnings.filterwarnings(\"ignore\")"
   ]
  },
  {
   "cell_type": "code",
   "execution_count": null,
   "id": "1db11502",
   "metadata": {},
   "outputs": [],
   "source": [
    "import pandas as pd\n",
    "from pandas import IndexSlice as idx"
   ]
  },
  {
   "cell_type": "code",
   "execution_count": null,
   "id": "68247167",
   "metadata": {},
   "outputs": [],
   "source": [
    "import scipy.io as io\n",
    "import scipy.sparse as sprs"
   ]
  },
  {
   "cell_type": "code",
   "execution_count": null,
   "id": "13bdbe6e",
   "metadata": {},
   "outputs": [],
   "source": [
    "import numpy as np"
   ]
  },
  {
   "cell_type": "code",
   "execution_count": null,
   "id": "c647852d",
   "metadata": {},
   "outputs": [],
   "source": [
    "import os\n",
    "print(os.getcwd())"
   ]
  },
  {
   "cell_type": "markdown",
   "id": "188c6cab",
   "metadata": {},
   "source": [
    "## PARAMETERS ###"
   ]
  },
  {
   "cell_type": "code",
   "execution_count": null,
   "id": "efee3e3d",
   "metadata": {},
   "outputs": [],
   "source": [
    "input_folder = 'input/'                 # folder with parameters\n",
    "output_folder =  'results/'             # folder to write results to\n",
    "losses = 'evaluation/'                  # folder to store the refined results to"
   ]
  },
  {
   "cell_type": "code",
   "execution_count": null,
   "id": "4027c3b4",
   "metadata": {},
   "outputs": [],
   "source": [
    "a_shock = 'IND'"
   ]
  },
  {
   "cell_type": "code",
   "execution_count": null,
   "id": "b448a16d",
   "metadata": {
    "lines_to_next_cell": 2
   },
   "outputs": [],
   "source": [
    "a_frame = pd.read_csv(input_folder+'a_frame.csv')\n",
    "area_value = a_frame.loc[a_frame['code'] == a_shock, 'code'].values[0]"
   ]
  },
  {
   "cell_type": "markdown",
   "id": "9c70cf84",
   "metadata": {},
   "source": [
    "## LOADING DATA ###"
   ]
  },
  {
   "cell_type": "code",
   "execution_count": null,
   "id": "5f518a03",
   "metadata": {},
   "outputs": [],
   "source": [
    "# Load information\n",
    "io_codes = pd.read_csv(input_folder+'io_codes_alph.csv').drop('Unnamed: 0', axis = 1)\n",
    "su_codes = pd.read_csv(input_folder+'su_codes_alph.csv').drop('Unnamed: 0', axis = 1)"
   ]
  },
  {
   "cell_type": "code",
   "execution_count": null,
   "id": "2a1b400b",
   "metadata": {},
   "outputs": [],
   "source": [
    "# Create single indexes\n",
    "areas = np.array(sorted(set(io_codes['area'])))\n",
    "items = np.array(sorted(set(io_codes['item'])))\n",
    "processes = np.array(sorted(set(su_codes['proc'])))"
   ]
  },
  {
   "cell_type": "code",
   "execution_count": null,
   "id": "b537a8f9",
   "metadata": {},
   "outputs": [],
   "source": [
    "# Create multi indexes\n",
    "ai_index = pd.MultiIndex.from_product([areas, items])\n",
    "ap_index = pd.MultiIndex.from_product([areas, items])"
   ]
  },
  {
   "cell_type": "code",
   "execution_count": null,
   "id": "bdd50cd1",
   "metadata": {},
   "outputs": [],
   "source": [
    "# Load  further information on countries\n",
    "a_frame = pd.read_csv(input_folder+'a_frame.csv')"
   ]
  },
  {
   "cell_type": "code",
   "execution_count": null,
   "id": "4d0d9bc1",
   "metadata": {},
   "outputs": [],
   "source": [
    "# Load the result of the shocked simulation\n",
    "X = pd.read_csv(output_folder+'base.csv', index_col=[0,1], header=[0])\n",
    "XS_comp = pd.read_csv(output_folder + area_value + '_comp.csv', index_col=[0, 1], header=[0, 1])\n",
    "XS_no_comp = pd.read_csv(output_folder+area_value + '_no_comp.csv', index_col=[0,1], header=[0,1])"
   ]
  },
  {
   "cell_type": "code",
   "execution_count": null,
   "id": "e3f86cc3",
   "metadata": {},
   "outputs": [],
   "source": [
    "# Flatten multi-level columns\n",
    "XS_comp.columns = ['_'.join(col).strip() for col in XS_comp.columns.values]\n",
    "XS_no_comp.columns = ['_'.join(col).strip() for col in XS_no_comp.columns.values]\n",
    "\n",
    "# Inspect the flattened DataFrame\n",
    "print(XS_comp.head())\n",
    "print(XS_no_comp.head())"
   ]
  },
  {
   "cell_type": "markdown",
   "id": "084fea81",
   "metadata": {},
   "source": [
    "## COMPUTATIONS ###"
   ]
  },
  {
   "cell_type": "code",
   "execution_count": null,
   "id": "3ded5c40",
   "metadata": {},
   "outputs": [],
   "source": [
    "# Compute relative loss\n",
    "RL_no_comp = XS_no_comp.copy()\n",
    "RL_comp = XS_comp.copy()\n",
    "for col in XS_no_comp.columns:\n",
    "    RL_no_comp[col] = ((X['base'] - RL_no_comp[col])/X['base']).fillna(0)\n",
    "    RL_comp[col] = ((X['base'] - RL_comp[col])/X['base']).fillna(0)  \n",
    "RL_no_comp[RL_no_comp < -1] = -1\n",
    "RL_comp[RL_comp < -1] = -1"
   ]
  },
  {
   "cell_type": "code",
   "execution_count": null,
   "id": "bccbbfbb",
   "metadata": {},
   "outputs": [],
   "source": [
    "# Setup a dataframe for the relative loss\n",
    "RL_no_comp.columns = pd.MultiIndex.from_product([[a_shock],items])\n",
    "RL_no_comp.columns.names = ['a_shock','i_shock']\n",
    "RL_no_comp.index.names = ['a_receive','i_receive'] \n",
    "RL_comp.columns = pd.MultiIndex.from_product([[a_shock],items])\n",
    "RL_comp.columns.names = ['a_shock','i_shock']\n",
    "RL_comp.index.names = ['a_receive','i_receive'] "
   ]
  },
  {
   "cell_type": "code",
   "execution_count": null,
   "id": "48f6d1af",
   "metadata": {
    "lines_to_next_cell": 2
   },
   "outputs": [],
   "source": [
    "# Save\n",
    "RL_no_comp.to_csv(losses+'RL-'+ area_value+'_no_comp.csv')\n",
    "RL_comp.to_csv(losses+'RL-'+ area_value +'_comp.csv')"
   ]
  },
  {
   "cell_type": "code",
   "execution_count": null,
   "id": "b15f6b68",
   "metadata": {},
   "outputs": [],
   "source": [
    "# Compute absolute loss\n",
    "AL_no_comp = XS_no_comp.copy()\n",
    "AL_comp = XS_comp.copy()\n",
    "for col in XS_no_comp.columns:\n",
    "    AL_no_comp[col] = X['base'] - XS_no_comp[col]\n",
    "    AL_comp[col] = X['base'] - XS_comp[col]"
   ]
  },
  {
   "cell_type": "code",
   "execution_count": null,
   "id": "cc3dcb5a",
   "metadata": {},
   "outputs": [],
   "source": [
    "# Setup a dataframe for the absolute loss\n",
    "AL_no_comp.columns = pd.MultiIndex.from_product([[a_shock],items])\n",
    "AL_no_comp.columns.names = ['a_shock','i_shock']\n",
    "AL_no_comp.index.names = ['a_receive','i_receive'] \n",
    "AL_comp.columns = pd.MultiIndex.from_product([[a_shock],items])\n",
    "AL_comp.columns.names = ['a_shock','i_shock']\n",
    "AL_comp.index.names = ['a_receive','i_receive']  "
   ]
  },
  {
   "cell_type": "code",
   "execution_count": null,
   "id": "046ea846",
   "metadata": {
    "lines_to_next_cell": 2
   },
   "outputs": [],
   "source": [
    "# Save\n",
    "AL_no_comp.to_csv(losses+'AL-'+ area_value +'_no_comp.csv')\n",
    "AL_comp.to_csv(losses+'AL-'+ area_value +'_comp.csv')"
   ]
  },
  {
   "cell_type": "code",
   "execution_count": null,
   "id": "09f5e3ee",
   "metadata": {},
   "outputs": [],
   "source": [
    "# Ensure MultiIndex for AL_no_comp and AL_comp\n",
    "AL_no_comp.index.names = ['area', 'item']\n",
    "AL_comp.index.names = ['area', 'item']"
   ]
  },
  {
   "cell_type": "code",
   "execution_count": 92,
   "id": "77f65994",
   "metadata": {},
   "outputs": [],
   "source": [
    "# Compute absolute loss per capita\n",
    "AL_no_comp_pc = AL_no_comp.reset_index()\n",
    "\n",
    "AL_comp_pc = AL_comp.reset_index()"
   ]
  },
  {
   "cell_type": "code",
   "execution_count": null,
   "id": "d9093a82",
   "metadata": {},
   "outputs": [],
   "source": [
    "# Compute absolute loss per capita\n",
    "AL_no_comp_pc=AL_no_comp.reset_index().merge(a_frame.loc[:,'population'],left_on='level_0',right_index=True)\n",
    "AL_comp_pc=AL_comp.reset_index().merge(a_frame.loc[:,'population'],left_on='level_0',right_index=True)\n",
    "for col in AL_no_comp.columns:\n",
    "    AL_no_comp_pc[col]=AL_no_comp_pc[col]/AL_no_comp_pc['population']\n",
    "    AL_comp_pc[col]=AL_comp_pc[col]/AL_comp_pc['population']\n",
    "AL_no_comp_pc=AL_no_comp_pc.rename(columns={'level_0':'area','level_1':'item'}).set_index(['area','item'])*1000     # times 1000 transforms the values from tons to kg\n",
    "AL_comp_pc=AL_comp_pc.rename(columns={'level_0':'area','level_1':'item'}).set_index(['area','item'])*1000"
   ]
  },
  {
   "cell_type": "code",
   "execution_count": null,
   "id": "f7f5eb46",
   "metadata": {},
   "outputs": [],
   "source": [
    "# Setup a dataframe for the absolute loss\n",
    "AL_pc_no_comp.columns = pd.MultiIndex.from_product([[a_shock],items])\n",
    "AL_pc_no_comp.columns.names = ['a_shock','i_shock']\n",
    "AL_pc_no_comp.index.names = ['a_receive','i_receive'] \n",
    "AL_pc_comp.columns = pd.MultiIndex.from_product([[a_shock],items])\n",
    "AL_pc_comp.columns.names = ['a_shock','i_shock']\n",
    "AL_pc_comp.index.names = ['a_receive','i_receive']  "
   ]
  },
  {
   "cell_type": "code",
   "execution_count": null,
   "id": "7aa5ea9b",
   "metadata": {},
   "outputs": [],
   "source": [
    "# Save\n",
    "AL_pc_no_comp.to_csv(losses+'AL-'+a_frame.loc[a_shock,'code']+'_no_comp.csv')\n",
    "AL_pc_comp.to_csv(losses+'AL-'+a_frame.loc[a_shock,'code']+'_comp.csv')"
   ]
  },
  {
   "cell_type": "code",
   "execution_count": null,
   "id": "7bdcbe96",
   "metadata": {},
   "outputs": [],
   "source": []
  }
 ],
 "metadata": {
  "jupytext": {
   "cell_metadata_filter": "-all",
   "main_language": "python",
   "notebook_metadata_filter": "-all"
  },
  "kernelspec": {
   "display_name": "base",
   "language": "python",
   "name": "python3"
  },
  "language_info": {
   "codemirror_mode": {
    "name": "ipython",
    "version": 3
   },
   "file_extension": ".py",
   "mimetype": "text/x-python",
   "name": "python",
   "nbconvert_exporter": "python",
   "pygments_lexer": "ipython3",
   "version": "3.12.9"
  }
 },
 "nbformat": 4,
 "nbformat_minor": 5
}
