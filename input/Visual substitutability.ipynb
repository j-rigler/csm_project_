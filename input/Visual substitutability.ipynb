{
 "cells": [
  {
   "cell_type": "code",
   "execution_count": null,
   "metadata": {},
   "outputs": [],
   "source": [
    "pip install -U kaleido"
   ]
  },
  {
   "cell_type": "code",
   "execution_count": 1,
   "metadata": {
    "colab": {
     "base_uri": "https://localhost:8080/"
    },
    "executionInfo": {
     "elapsed": 2642,
     "status": "ok",
     "timestamp": 1749760826161,
     "user": {
      "displayName": "Lorenzo SILVESTRI",
      "userId": "00821103516951245692"
     },
     "user_tz": -120
    },
    "id": "XVnQidamKthk",
    "outputId": "ce4b08af-217a-46f4-c5f8-58d29b20eb08"
   },
   "outputs": [
    {
     "name": "stderr",
     "output_type": "stream",
     "text": [
      "C:\\Users\\silvestl\\AppData\\Local\\Packages\\PythonSoftwareFoundation.Python.3.11_qbz5n2kfra8p0\\LocalCache\\local-packages\\Python311\\site-packages\\seaborn\\_statistics.py:32: UserWarning: A NumPy version >=1.22.4 and <2.3.0 is required for this version of SciPy (detected version 2.3.0)\n",
      "  from scipy.stats import gaussian_kde\n"
     ]
    },
    {
     "name": "stdout",
     "output_type": "stream",
     "text": [
      "c:\\Users\\silvestl\\Desktop\\ProjectCSM\\csm_project_-Valentin\\input\n"
     ]
    }
   ],
   "source": [
    "import matplotlib.pyplot as plt\n",
    "import plotly_express as px\n",
    "import seaborn as sns\n",
    "import pandas as pd\n",
    "import os\n",
    "print(os.getcwd())\n",
    "import kaleido"
   ]
  },
  {
   "cell_type": "code",
   "execution_count": 12,
   "metadata": {},
   "outputs": [
    {
     "data": {
      "application/vnd.plotly.v1+json": {
       "config": {
        "plotlyServerURL": "https://plot.ly"
       },
       "data": [
        {
         "branchvalues": "total",
         "domain": {
          "x": [
           0,
           1
          ],
          "y": [
           0,
           1
          ]
         },
         "hovertemplate": "labels=%{label}<br>count=%{value}<br>parent=%{parent}<br>id=%{id}<extra></extra>",
         "ids": [
          "Alcohol/Beer",
          "Alcohol/Beverages, A...",
          "Alcohol/Beverages, F...",
          "Alcohol/Wine",
          "Animal fats/Fats, Animal...",
          "Cereals/Barley and p...",
          "Cereals/Cereals, Other",
          "Cereals/Maize and pr...",
          "Cereals/Millet and p...",
          "Cereals/Oats",
          "Cereals/Rice and pro...",
          "Cereals/Rye and prod...",
          "Cereals/Sorghum and ...",
          "Cereals/Wheat and pr...",
          "Coffee, tea, cocoa/Cocoa Beans ...",
          "Coffee, tea, cocoa/Coffee and p...",
          "Coffee, tea, cocoa/Tea (includi...",
          "Eggs/Eggs",
          "Ethanol/Alcohol, Non...",
          "Fibre crops/Abaca",
          "Fibre crops/Cotton lint",
          "Fibre crops/Cottonseed",
          "Fibre crops/Hard Fibres,...",
          "Fibre crops/Jute",
          "Fibre crops/Jute-Like Fi...",
          "Fibre crops/Sisal",
          "Fibre crops/Soft-Fibres,...",
          "Fish/Fish, Seafood",
          "Fodder crops/Fodder crops",
          "Grazing/Grazing",
          "Hides, skins, wool/Hides and skins",
          "Hides, skins, wool/Silk",
          "Hides, skins, wool/Wool (Clean ...",
          "Honey/Honey",
          "Live animals/Asses",
          "Live animals/Buffaloes",
          "Live animals/Camelids, other",
          "Live animals/Camels",
          "Live animals/Cattle",
          "Live animals/Goats",
          "Live animals/Horses",
          "Live animals/Mules",
          "Live animals/Pigs",
          "Live animals/Poultry Birds",
          "Live animals/Rabbits and ...",
          "Live animals/Rodents, other",
          "Live animals/Sheep",
          "Meat/Bovine Meat",
          "Meat/Meat, Other",
          "Meat/Mutton & Goa...",
          "Meat/Offals, Edible",
          "Meat/Pigmeat",
          "Meat/Poultry Meat",
          "Milk/Butter, Ghee",
          "Milk/Milk - Exclu...",
          "Oil cakes/Copra Cake",
          "Oil cakes/Cottonseed Cake",
          "Oil cakes/Groundnut Cake",
          "Oil cakes/Oilseed Cake...",
          "Oil cakes/Palmkernel Cake",
          "Oil cakes/Rape and Mus...",
          "Oil cakes/Sesameseed Cake",
          "Oil cakes/Soyabean Cake",
          "Oil cakes/Sunflowersee...",
          "Oil crops/Coconuts - I...",
          "Oil crops/Groundnuts",
          "Oil crops/Oil, palm fruit",
          "Oil crops/Oilcrops, Other",
          "Oil crops/Olives (incl...",
          "Oil crops/Palm kernels",
          "Oil crops/Rape and Mus...",
          "Oil crops/Seed cotton",
          "Oil crops/Sesame seed",
          "Oil crops/Soyabeans",
          "Oil crops/Sunflower seed",
          "Roots and tubers/Cassava and ...",
          "Roots and tubers/Potatoes and...",
          "Roots and tubers/Roots, Other",
          "Roots and tubers/Sweet potatoes",
          "Roots and tubers/Yams",
          "Sugar crops/Sugar beet",
          "Sugar crops/Sugar cane",
          "Sugar, sweeteners/Sugar (Raw E...",
          "Sugar, sweeteners/Sugar non-ce...",
          "Sugar, sweeteners/Sweeteners, ...",
          "Tobacco, rubber/Rubber",
          "Tobacco, rubber/Tobacco",
          "Vegetable oils/Coconut Oil",
          "Vegetable oils/Cottonseed Oil",
          "Vegetable oils/Groundnut Oil",
          "Vegetable oils/Maize Germ Oil",
          "Vegetable oils/Oilcrops Oil...",
          "Vegetable oils/Olive Oil",
          "Vegetable oils/Palm Oil",
          "Vegetable oils/Palmkernel Oil",
          "Vegetable oils/Rape and Mus...",
          "Vegetable oils/Ricebran Oil",
          "Vegetable oils/Sesameseed Oil",
          "Vegetable oils/Soyabean Oil",
          "Vegetable oils/Sunflowersee...",
          "Vegetables, fruit, nuts, pulses, spices/Apples and p...",
          "Vegetables, fruit, nuts, pulses, spices/Bananas",
          "Vegetables, fruit, nuts, pulses, spices/Beans",
          "Vegetables, fruit, nuts, pulses, spices/Citrus, Other",
          "Vegetables, fruit, nuts, pulses, spices/Cloves",
          "Vegetables, fruit, nuts, pulses, spices/Dates",
          "Vegetables, fruit, nuts, pulses, spices/Fruits, Other",
          "Vegetables, fruit, nuts, pulses, spices/Grapefruit a...",
          "Vegetables, fruit, nuts, pulses, spices/Grapes and p...",
          "Vegetables, fruit, nuts, pulses, spices/Hops",
          "Vegetables, fruit, nuts, pulses, spices/Lemons, Lime...",
          "Vegetables, fruit, nuts, pulses, spices/Nuts and pro...",
          "Vegetables, fruit, nuts, pulses, spices/Onions",
          "Vegetables, fruit, nuts, pulses, spices/Oranges, Man...",
          "Vegetables, fruit, nuts, pulses, spices/Peas",
          "Vegetables, fruit, nuts, pulses, spices/Pepper",
          "Vegetables, fruit, nuts, pulses, spices/Pimento",
          "Vegetables, fruit, nuts, pulses, spices/Pineapples a...",
          "Vegetables, fruit, nuts, pulses, spices/Plantains",
          "Vegetables, fruit, nuts, pulses, spices/Pulses, Othe...",
          "Vegetables, fruit, nuts, pulses, spices/Spices, Other",
          "Vegetables, fruit, nuts, pulses, spices/Tomatoes and...",
          "Vegetables, fruit, nuts, pulses, spices/Vegetables, ...",
          "Alcohol",
          "Animal fats",
          "Cereals",
          "Coffee, tea, cocoa",
          "Eggs",
          "Ethanol",
          "Fibre crops",
          "Fish",
          "Fodder crops",
          "Grazing",
          "Hides, skins, wool",
          "Honey",
          "Live animals",
          "Meat",
          "Milk",
          "Oil cakes",
          "Oil crops",
          "Roots and tubers",
          "Sugar crops",
          "Sugar, sweeteners",
          "Tobacco, rubber",
          "Vegetable oils",
          "Vegetables, fruit, nuts, pulses, spices"
         ],
         "labels": [
          "Beer",
          "Beverages, A...",
          "Beverages, F...",
          "Wine",
          "Fats, Animal...",
          "Barley and p...",
          "Cereals, Other",
          "Maize and pr...",
          "Millet and p...",
          "Oats",
          "Rice and pro...",
          "Rye and prod...",
          "Sorghum and ...",
          "Wheat and pr...",
          "Cocoa Beans ...",
          "Coffee and p...",
          "Tea (includi...",
          "Eggs",
          "Alcohol, Non...",
          "Abaca",
          "Cotton lint",
          "Cottonseed",
          "Hard Fibres,...",
          "Jute",
          "Jute-Like Fi...",
          "Sisal",
          "Soft-Fibres,...",
          "Fish, Seafood",
          "Fodder crops",
          "Grazing",
          "Hides and skins",
          "Silk",
          "Wool (Clean ...",
          "Honey",
          "Asses",
          "Buffaloes",
          "Camelids, other",
          "Camels",
          "Cattle",
          "Goats",
          "Horses",
          "Mules",
          "Pigs",
          "Poultry Birds",
          "Rabbits and ...",
          "Rodents, other",
          "Sheep",
          "Bovine Meat",
          "Meat, Other",
          "Mutton & Goa...",
          "Offals, Edible",
          "Pigmeat",
          "Poultry Meat",
          "Butter, Ghee",
          "Milk - Exclu...",
          "Copra Cake",
          "Cottonseed Cake",
          "Groundnut Cake",
          "Oilseed Cake...",
          "Palmkernel Cake",
          "Rape and Mus...",
          "Sesameseed Cake",
          "Soyabean Cake",
          "Sunflowersee...",
          "Coconuts - I...",
          "Groundnuts",
          "Oil, palm fruit",
          "Oilcrops, Other",
          "Olives (incl...",
          "Palm kernels",
          "Rape and Mus...",
          "Seed cotton",
          "Sesame seed",
          "Soyabeans",
          "Sunflower seed",
          "Cassava and ...",
          "Potatoes and...",
          "Roots, Other",
          "Sweet potatoes",
          "Yams",
          "Sugar beet",
          "Sugar cane",
          "Sugar (Raw E...",
          "Sugar non-ce...",
          "Sweeteners, ...",
          "Rubber",
          "Tobacco",
          "Coconut Oil",
          "Cottonseed Oil",
          "Groundnut Oil",
          "Maize Germ Oil",
          "Oilcrops Oil...",
          "Olive Oil",
          "Palm Oil",
          "Palmkernel Oil",
          "Rape and Mus...",
          "Ricebran Oil",
          "Sesameseed Oil",
          "Soyabean Oil",
          "Sunflowersee...",
          "Apples and p...",
          "Bananas",
          "Beans",
          "Citrus, Other",
          "Cloves",
          "Dates",
          "Fruits, Other",
          "Grapefruit a...",
          "Grapes and p...",
          "Hops",
          "Lemons, Lime...",
          "Nuts and pro...",
          "Onions",
          "Oranges, Man...",
          "Peas",
          "Pepper",
          "Pimento",
          "Pineapples a...",
          "Plantains",
          "Pulses, Othe...",
          "Spices, Other",
          "Tomatoes and...",
          "Vegetables, ...",
          "Alcohol",
          "Animal fats",
          "Cereals",
          "Coffee, tea, cocoa",
          "Eggs",
          "Ethanol",
          "Fibre crops",
          "Fish",
          "Fodder crops",
          "Grazing",
          "Hides, skins, wool",
          "Honey",
          "Live animals",
          "Meat",
          "Milk",
          "Oil cakes",
          "Oil crops",
          "Roots and tubers",
          "Sugar crops",
          "Sugar, sweeteners",
          "Tobacco, rubber",
          "Vegetable oils",
          "Vegetables, fruit, nuts, pulses, spices"
         ],
         "name": "",
         "parents": [
          "Alcohol",
          "Alcohol",
          "Alcohol",
          "Alcohol",
          "Animal fats",
          "Cereals",
          "Cereals",
          "Cereals",
          "Cereals",
          "Cereals",
          "Cereals",
          "Cereals",
          "Cereals",
          "Cereals",
          "Coffee, tea, cocoa",
          "Coffee, tea, cocoa",
          "Coffee, tea, cocoa",
          "Eggs",
          "Ethanol",
          "Fibre crops",
          "Fibre crops",
          "Fibre crops",
          "Fibre crops",
          "Fibre crops",
          "Fibre crops",
          "Fibre crops",
          "Fibre crops",
          "Fish",
          "Fodder crops",
          "Grazing",
          "Hides, skins, wool",
          "Hides, skins, wool",
          "Hides, skins, wool",
          "Honey",
          "Live animals",
          "Live animals",
          "Live animals",
          "Live animals",
          "Live animals",
          "Live animals",
          "Live animals",
          "Live animals",
          "Live animals",
          "Live animals",
          "Live animals",
          "Live animals",
          "Live animals",
          "Meat",
          "Meat",
          "Meat",
          "Meat",
          "Meat",
          "Meat",
          "Milk",
          "Milk",
          "Oil cakes",
          "Oil cakes",
          "Oil cakes",
          "Oil cakes",
          "Oil cakes",
          "Oil cakes",
          "Oil cakes",
          "Oil cakes",
          "Oil cakes",
          "Oil crops",
          "Oil crops",
          "Oil crops",
          "Oil crops",
          "Oil crops",
          "Oil crops",
          "Oil crops",
          "Oil crops",
          "Oil crops",
          "Oil crops",
          "Oil crops",
          "Roots and tubers",
          "Roots and tubers",
          "Roots and tubers",
          "Roots and tubers",
          "Roots and tubers",
          "Sugar crops",
          "Sugar crops",
          "Sugar, sweeteners",
          "Sugar, sweeteners",
          "Sugar, sweeteners",
          "Tobacco, rubber",
          "Tobacco, rubber",
          "Vegetable oils",
          "Vegetable oils",
          "Vegetable oils",
          "Vegetable oils",
          "Vegetable oils",
          "Vegetable oils",
          "Vegetable oils",
          "Vegetable oils",
          "Vegetable oils",
          "Vegetable oils",
          "Vegetable oils",
          "Vegetable oils",
          "Vegetable oils",
          "Vegetables, fruit, nuts, pulses, spices",
          "Vegetables, fruit, nuts, pulses, spices",
          "Vegetables, fruit, nuts, pulses, spices",
          "Vegetables, fruit, nuts, pulses, spices",
          "Vegetables, fruit, nuts, pulses, spices",
          "Vegetables, fruit, nuts, pulses, spices",
          "Vegetables, fruit, nuts, pulses, spices",
          "Vegetables, fruit, nuts, pulses, spices",
          "Vegetables, fruit, nuts, pulses, spices",
          "Vegetables, fruit, nuts, pulses, spices",
          "Vegetables, fruit, nuts, pulses, spices",
          "Vegetables, fruit, nuts, pulses, spices",
          "Vegetables, fruit, nuts, pulses, spices",
          "Vegetables, fruit, nuts, pulses, spices",
          "Vegetables, fruit, nuts, pulses, spices",
          "Vegetables, fruit, nuts, pulses, spices",
          "Vegetables, fruit, nuts, pulses, spices",
          "Vegetables, fruit, nuts, pulses, spices",
          "Vegetables, fruit, nuts, pulses, spices",
          "Vegetables, fruit, nuts, pulses, spices",
          "Vegetables, fruit, nuts, pulses, spices",
          "Vegetables, fruit, nuts, pulses, spices",
          "Vegetables, fruit, nuts, pulses, spices",
          "",
          "",
          "",
          "",
          "",
          "",
          "",
          "",
          "",
          "",
          "",
          "",
          "",
          "",
          "",
          "",
          "",
          "",
          "",
          "",
          "",
          "",
          ""
         ],
         "textfont": {
          "size": 16
         },
         "type": "treemap",
         "values": {
          "bdata": "AAAAAAAAaEAAAAAAAABoQAAAAAAAAGhAAAAAAAAAaEAAAAAAAABoQAAAAAAAAGhAAAAAAAAAaEAAAAAAAABoQAAAAAAAAGhAAAAAAAAAaEAAAAAAAABoQAAAAAAAAGhAAAAAAAAAaEAAAAAAAABoQAAAAAAAAGhAAAAAAAAAaEAAAAAAAABoQAAAAAAAAGhAAAAAAAAAaEAAAAAAAABoQAAAAAAAAGhAAAAAAAAAaEAAAAAAAABoQAAAAAAAAGhAAAAAAAAAaEAAAAAAAABoQAAAAAAAAGhAAAAAAAAAaEAAAAAAAABoQAAAAAAAAGhAAAAAAAAAaEAAAAAAAABoQAAAAAAAAGhAAAAAAAAAaEAAAAAAAABoQAAAAAAAAGhAAAAAAAAAaEAAAAAAAABoQAAAAAAAAGhAAAAAAAAAaEAAAAAAAABoQAAAAAAAAGhAAAAAAAAAaEAAAAAAAABoQAAAAAAAAGhAAAAAAAAAaEAAAAAAAABoQAAAAAAAAGhAAAAAAAAAaEAAAAAAAABoQAAAAAAAAGhAAAAAAAAAaEAAAAAAAABoQAAAAAAAAGhAAAAAAAAAaEAAAAAAAABoQAAAAAAAAGhAAAAAAAAAaEAAAAAAAABoQAAAAAAAAGhAAAAAAAAAaEAAAAAAAABoQAAAAAAAAGhAAAAAAAAAaEAAAAAAAABoQAAAAAAAAGhAAAAAAAAAaEAAAAAAAABoQAAAAAAAAGhAAAAAAAAAaEAAAAAAAABoQAAAAAAAAGhAAAAAAAAAaEAAAAAAAABoQAAAAAAAAGhAAAAAAAAAaEAAAAAAAABoQAAAAAAAAGhAAAAAAAAAaEAAAAAAAABoQAAAAAAAAGhAAAAAAAAAaEAAAAAAAABoQAAAAAAAAGhAAAAAAAAAaEAAAAAAAABoQAAAAAAAAGhAAAAAAAAAaEAAAAAAAABoQAAAAAAAAGhAAAAAAAAAaEAAAAAAAABoQAAAAAAAAGhAAAAAAAAAaEAAAAAAAABoQAAAAAAAAGhAAAAAAAAAaEAAAAAAAABoQAAAAAAAAGhAAAAAAAAAaEAAAAAAAABoQAAAAAAAAGhAAAAAAAAAaEAAAAAAAABoQAAAAAAAAGhAAAAAAAAAaEAAAAAAAABoQAAAAAAAAGhAAAAAAAAAaEAAAAAAAABoQAAAAAAAAGhAAAAAAAAAaEAAAAAAAABoQAAAAAAAAGhAAAAAAAAAaEAAAAAAAABoQAAAAAAAAGhAAAAAAAAAaEAAAAAAAABoQAAAAAAAAGhAAAAAAAAAaEAAAAAAAABoQAAAAAAAAGhAAAAAAAAAiEAAAAAAAABoQAAAAAAAAJtAAAAAAAAAgkAAAAAAAABoQAAAAAAAAGhAAAAAAAAAmEAAAAAAAABoQAAAAAAAAGhAAAAAAAAAaEAAAAAAAACCQAAAAAAAAGhAAAAAAACAo0AAAAAAAACSQAAAAAAAAHhAAAAAAAAAm0AAAAAAAICgQAAAAAAAAI5AAAAAAAAAeEAAAAAAAACCQAAAAAAAAHhAAAAAAACAo0AAAAAAAECxQA==",
          "dtype": "f8"
         }
        }
       ],
       "layout": {
        "legend": {
         "tracegroupgap": 0
        },
        "margin": {
         "b": 20,
         "l": 20,
         "pad": 0,
         "r": 20,
         "t": 40
        },
        "template": {
         "data": {
          "bar": [
           {
            "error_x": {
             "color": "#2a3f5f"
            },
            "error_y": {
             "color": "#2a3f5f"
            },
            "marker": {
             "line": {
              "color": "#E5ECF6",
              "width": 0.5
             },
             "pattern": {
              "fillmode": "overlay",
              "size": 10,
              "solidity": 0.2
             }
            },
            "type": "bar"
           }
          ],
          "barpolar": [
           {
            "marker": {
             "line": {
              "color": "#E5ECF6",
              "width": 0.5
             },
             "pattern": {
              "fillmode": "overlay",
              "size": 10,
              "solidity": 0.2
             }
            },
            "type": "barpolar"
           }
          ],
          "carpet": [
           {
            "aaxis": {
             "endlinecolor": "#2a3f5f",
             "gridcolor": "white",
             "linecolor": "white",
             "minorgridcolor": "white",
             "startlinecolor": "#2a3f5f"
            },
            "baxis": {
             "endlinecolor": "#2a3f5f",
             "gridcolor": "white",
             "linecolor": "white",
             "minorgridcolor": "white",
             "startlinecolor": "#2a3f5f"
            },
            "type": "carpet"
           }
          ],
          "choropleth": [
           {
            "colorbar": {
             "outlinewidth": 0,
             "ticks": ""
            },
            "type": "choropleth"
           }
          ],
          "contour": [
           {
            "colorbar": {
             "outlinewidth": 0,
             "ticks": ""
            },
            "colorscale": [
             [
              0,
              "#0d0887"
             ],
             [
              0.1111111111111111,
              "#46039f"
             ],
             [
              0.2222222222222222,
              "#7201a8"
             ],
             [
              0.3333333333333333,
              "#9c179e"
             ],
             [
              0.4444444444444444,
              "#bd3786"
             ],
             [
              0.5555555555555556,
              "#d8576b"
             ],
             [
              0.6666666666666666,
              "#ed7953"
             ],
             [
              0.7777777777777778,
              "#fb9f3a"
             ],
             [
              0.8888888888888888,
              "#fdca26"
             ],
             [
              1,
              "#f0f921"
             ]
            ],
            "type": "contour"
           }
          ],
          "contourcarpet": [
           {
            "colorbar": {
             "outlinewidth": 0,
             "ticks": ""
            },
            "type": "contourcarpet"
           }
          ],
          "heatmap": [
           {
            "colorbar": {
             "outlinewidth": 0,
             "ticks": ""
            },
            "colorscale": [
             [
              0,
              "#0d0887"
             ],
             [
              0.1111111111111111,
              "#46039f"
             ],
             [
              0.2222222222222222,
              "#7201a8"
             ],
             [
              0.3333333333333333,
              "#9c179e"
             ],
             [
              0.4444444444444444,
              "#bd3786"
             ],
             [
              0.5555555555555556,
              "#d8576b"
             ],
             [
              0.6666666666666666,
              "#ed7953"
             ],
             [
              0.7777777777777778,
              "#fb9f3a"
             ],
             [
              0.8888888888888888,
              "#fdca26"
             ],
             [
              1,
              "#f0f921"
             ]
            ],
            "type": "heatmap"
           }
          ],
          "histogram": [
           {
            "marker": {
             "pattern": {
              "fillmode": "overlay",
              "size": 10,
              "solidity": 0.2
             }
            },
            "type": "histogram"
           }
          ],
          "histogram2d": [
           {
            "colorbar": {
             "outlinewidth": 0,
             "ticks": ""
            },
            "colorscale": [
             [
              0,
              "#0d0887"
             ],
             [
              0.1111111111111111,
              "#46039f"
             ],
             [
              0.2222222222222222,
              "#7201a8"
             ],
             [
              0.3333333333333333,
              "#9c179e"
             ],
             [
              0.4444444444444444,
              "#bd3786"
             ],
             [
              0.5555555555555556,
              "#d8576b"
             ],
             [
              0.6666666666666666,
              "#ed7953"
             ],
             [
              0.7777777777777778,
              "#fb9f3a"
             ],
             [
              0.8888888888888888,
              "#fdca26"
             ],
             [
              1,
              "#f0f921"
             ]
            ],
            "type": "histogram2d"
           }
          ],
          "histogram2dcontour": [
           {
            "colorbar": {
             "outlinewidth": 0,
             "ticks": ""
            },
            "colorscale": [
             [
              0,
              "#0d0887"
             ],
             [
              0.1111111111111111,
              "#46039f"
             ],
             [
              0.2222222222222222,
              "#7201a8"
             ],
             [
              0.3333333333333333,
              "#9c179e"
             ],
             [
              0.4444444444444444,
              "#bd3786"
             ],
             [
              0.5555555555555556,
              "#d8576b"
             ],
             [
              0.6666666666666666,
              "#ed7953"
             ],
             [
              0.7777777777777778,
              "#fb9f3a"
             ],
             [
              0.8888888888888888,
              "#fdca26"
             ],
             [
              1,
              "#f0f921"
             ]
            ],
            "type": "histogram2dcontour"
           }
          ],
          "mesh3d": [
           {
            "colorbar": {
             "outlinewidth": 0,
             "ticks": ""
            },
            "type": "mesh3d"
           }
          ],
          "parcoords": [
           {
            "line": {
             "colorbar": {
              "outlinewidth": 0,
              "ticks": ""
             }
            },
            "type": "parcoords"
           }
          ],
          "pie": [
           {
            "automargin": true,
            "type": "pie"
           }
          ],
          "scatter": [
           {
            "fillpattern": {
             "fillmode": "overlay",
             "size": 10,
             "solidity": 0.2
            },
            "type": "scatter"
           }
          ],
          "scatter3d": [
           {
            "line": {
             "colorbar": {
              "outlinewidth": 0,
              "ticks": ""
             }
            },
            "marker": {
             "colorbar": {
              "outlinewidth": 0,
              "ticks": ""
             }
            },
            "type": "scatter3d"
           }
          ],
          "scattercarpet": [
           {
            "marker": {
             "colorbar": {
              "outlinewidth": 0,
              "ticks": ""
             }
            },
            "type": "scattercarpet"
           }
          ],
          "scattergeo": [
           {
            "marker": {
             "colorbar": {
              "outlinewidth": 0,
              "ticks": ""
             }
            },
            "type": "scattergeo"
           }
          ],
          "scattergl": [
           {
            "marker": {
             "colorbar": {
              "outlinewidth": 0,
              "ticks": ""
             }
            },
            "type": "scattergl"
           }
          ],
          "scattermap": [
           {
            "marker": {
             "colorbar": {
              "outlinewidth": 0,
              "ticks": ""
             }
            },
            "type": "scattermap"
           }
          ],
          "scattermapbox": [
           {
            "marker": {
             "colorbar": {
              "outlinewidth": 0,
              "ticks": ""
             }
            },
            "type": "scattermapbox"
           }
          ],
          "scatterpolar": [
           {
            "marker": {
             "colorbar": {
              "outlinewidth": 0,
              "ticks": ""
             }
            },
            "type": "scatterpolar"
           }
          ],
          "scatterpolargl": [
           {
            "marker": {
             "colorbar": {
              "outlinewidth": 0,
              "ticks": ""
             }
            },
            "type": "scatterpolargl"
           }
          ],
          "scatterternary": [
           {
            "marker": {
             "colorbar": {
              "outlinewidth": 0,
              "ticks": ""
             }
            },
            "type": "scatterternary"
           }
          ],
          "surface": [
           {
            "colorbar": {
             "outlinewidth": 0,
             "ticks": ""
            },
            "colorscale": [
             [
              0,
              "#0d0887"
             ],
             [
              0.1111111111111111,
              "#46039f"
             ],
             [
              0.2222222222222222,
              "#7201a8"
             ],
             [
              0.3333333333333333,
              "#9c179e"
             ],
             [
              0.4444444444444444,
              "#bd3786"
             ],
             [
              0.5555555555555556,
              "#d8576b"
             ],
             [
              0.6666666666666666,
              "#ed7953"
             ],
             [
              0.7777777777777778,
              "#fb9f3a"
             ],
             [
              0.8888888888888888,
              "#fdca26"
             ],
             [
              1,
              "#f0f921"
             ]
            ],
            "type": "surface"
           }
          ],
          "table": [
           {
            "cells": {
             "fill": {
              "color": "#EBF0F8"
             },
             "line": {
              "color": "white"
             }
            },
            "header": {
             "fill": {
              "color": "#C8D4E3"
             },
             "line": {
              "color": "white"
             }
            },
            "type": "table"
           }
          ]
         },
         "layout": {
          "annotationdefaults": {
           "arrowcolor": "#2a3f5f",
           "arrowhead": 0,
           "arrowwidth": 1
          },
          "autotypenumbers": "strict",
          "coloraxis": {
           "colorbar": {
            "outlinewidth": 0,
            "ticks": ""
           }
          },
          "colorscale": {
           "diverging": [
            [
             0,
             "#8e0152"
            ],
            [
             0.1,
             "#c51b7d"
            ],
            [
             0.2,
             "#de77ae"
            ],
            [
             0.3,
             "#f1b6da"
            ],
            [
             0.4,
             "#fde0ef"
            ],
            [
             0.5,
             "#f7f7f7"
            ],
            [
             0.6,
             "#e6f5d0"
            ],
            [
             0.7,
             "#b8e186"
            ],
            [
             0.8,
             "#7fbc41"
            ],
            [
             0.9,
             "#4d9221"
            ],
            [
             1,
             "#276419"
            ]
           ],
           "sequential": [
            [
             0,
             "#0d0887"
            ],
            [
             0.1111111111111111,
             "#46039f"
            ],
            [
             0.2222222222222222,
             "#7201a8"
            ],
            [
             0.3333333333333333,
             "#9c179e"
            ],
            [
             0.4444444444444444,
             "#bd3786"
            ],
            [
             0.5555555555555556,
             "#d8576b"
            ],
            [
             0.6666666666666666,
             "#ed7953"
            ],
            [
             0.7777777777777778,
             "#fb9f3a"
            ],
            [
             0.8888888888888888,
             "#fdca26"
            ],
            [
             1,
             "#f0f921"
            ]
           ],
           "sequentialminus": [
            [
             0,
             "#0d0887"
            ],
            [
             0.1111111111111111,
             "#46039f"
            ],
            [
             0.2222222222222222,
             "#7201a8"
            ],
            [
             0.3333333333333333,
             "#9c179e"
            ],
            [
             0.4444444444444444,
             "#bd3786"
            ],
            [
             0.5555555555555556,
             "#d8576b"
            ],
            [
             0.6666666666666666,
             "#ed7953"
            ],
            [
             0.7777777777777778,
             "#fb9f3a"
            ],
            [
             0.8888888888888888,
             "#fdca26"
            ],
            [
             1,
             "#f0f921"
            ]
           ]
          },
          "colorway": [
           "#636efa",
           "#EF553B",
           "#00cc96",
           "#ab63fa",
           "#FFA15A",
           "#19d3f3",
           "#FF6692",
           "#B6E880",
           "#FF97FF",
           "#FECB52"
          ],
          "font": {
           "color": "#2a3f5f"
          },
          "geo": {
           "bgcolor": "white",
           "lakecolor": "white",
           "landcolor": "#E5ECF6",
           "showlakes": true,
           "showland": true,
           "subunitcolor": "white"
          },
          "hoverlabel": {
           "align": "left"
          },
          "hovermode": "closest",
          "mapbox": {
           "style": "light"
          },
          "paper_bgcolor": "white",
          "plot_bgcolor": "#E5ECF6",
          "polar": {
           "angularaxis": {
            "gridcolor": "white",
            "linecolor": "white",
            "ticks": ""
           },
           "bgcolor": "#E5ECF6",
           "radialaxis": {
            "gridcolor": "white",
            "linecolor": "white",
            "ticks": ""
           }
          },
          "scene": {
           "xaxis": {
            "backgroundcolor": "#E5ECF6",
            "gridcolor": "white",
            "gridwidth": 2,
            "linecolor": "white",
            "showbackground": true,
            "ticks": "",
            "zerolinecolor": "white"
           },
           "yaxis": {
            "backgroundcolor": "#E5ECF6",
            "gridcolor": "white",
            "gridwidth": 2,
            "linecolor": "white",
            "showbackground": true,
            "ticks": "",
            "zerolinecolor": "white"
           },
           "zaxis": {
            "backgroundcolor": "#E5ECF6",
            "gridcolor": "white",
            "gridwidth": 2,
            "linecolor": "white",
            "showbackground": true,
            "ticks": "",
            "zerolinecolor": "white"
           }
          },
          "shapedefaults": {
           "line": {
            "color": "#2a3f5f"
           }
          },
          "ternary": {
           "aaxis": {
            "gridcolor": "white",
            "linecolor": "white",
            "ticks": ""
           },
           "baxis": {
            "gridcolor": "white",
            "linecolor": "white",
            "ticks": ""
           },
           "bgcolor": "#E5ECF6",
           "caxis": {
            "gridcolor": "white",
            "linecolor": "white",
            "ticks": ""
           }
          },
          "title": {
           "x": 0.05
          },
          "xaxis": {
           "automargin": true,
           "gridcolor": "white",
           "linecolor": "white",
           "ticks": "",
           "title": {
            "standoff": 15
           },
           "zerolinecolor": "white",
           "zerolinewidth": 2
          },
          "yaxis": {
           "automargin": true,
           "gridcolor": "white",
           "linecolor": "white",
           "ticks": "",
           "title": {
            "standoff": 15
           },
           "zerolinecolor": "white",
           "zerolinewidth": 2
          }
         }
        },
        "title": {
         "font": {
          "size": 20
         },
         "text": "Product Substitutability within Commodity Groups",
         "x": 0.5,
         "xanchor": "center",
         "yanchor": "top"
        },
        "uniformtext": {
         "minsize": 7,
         "mode": "show"
        }
       }
      }
     },
     "metadata": {},
     "output_type": "display_data"
    },
    {
     "ename": "RuntimeError",
     "evalue": "\n\nKaleido requires Google Chrome to be installed.\n\nEither download and install Chrome yourself following Google's instructions for your operating system,\nor install it from your terminal by running:\n\n    $ plotly_get_chrome\n\n",
     "output_type": "error",
     "traceback": [
      "\u001b[31m---------------------------------------------------------------------------\u001b[39m",
      "\u001b[31mChromeNotFoundError\u001b[39m                       Traceback (most recent call last)",
      "\u001b[31mChromeNotFoundError\u001b[39m: ",
      "\nThe above exception was the direct cause of the following exception:\n",
      "\u001b[31mChromeNotFoundError\u001b[39m                       Traceback (most recent call last)",
      "\u001b[36mFile \u001b[39m\u001b[32m~\\AppData\\Local\\Packages\\PythonSoftwareFoundation.Python.3.11_qbz5n2kfra8p0\\LocalCache\\local-packages\\Python311\\site-packages\\plotly\\io\\_kaleido.py:373\u001b[39m, in \u001b[36mto_image\u001b[39m\u001b[34m(fig, format, width, height, scale, validate, engine)\u001b[39m\n\u001b[32m    371\u001b[39m \u001b[38;5;28;01mtry\u001b[39;00m:\n\u001b[32m    372\u001b[39m     \u001b[38;5;66;03m# TODO: Refactor to make it possible to use a shared Kaleido instance here\u001b[39;00m\n\u001b[32m--> \u001b[39m\u001b[32m373\u001b[39m     img_bytes = \u001b[43mkaleido\u001b[49m\u001b[43m.\u001b[49m\u001b[43mcalc_fig_sync\u001b[49m\u001b[43m(\u001b[49m\n\u001b[32m    374\u001b[39m \u001b[43m        \u001b[49m\u001b[43mfig_dict\u001b[49m\u001b[43m,\u001b[49m\n\u001b[32m    375\u001b[39m \u001b[43m        \u001b[49m\u001b[43mopts\u001b[49m\u001b[43m=\u001b[49m\u001b[38;5;28;43mdict\u001b[39;49m\u001b[43m(\u001b[49m\n\u001b[32m    376\u001b[39m \u001b[43m            \u001b[49m\u001b[38;5;28;43mformat\u001b[39;49m\u001b[43m=\u001b[49m\u001b[38;5;28;43mformat\u001b[39;49m\u001b[43m \u001b[49m\u001b[38;5;129;43;01mor\u001b[39;49;00m\u001b[43m \u001b[49m\u001b[43mdefaults\u001b[49m\u001b[43m.\u001b[49m\u001b[43mdefault_format\u001b[49m\u001b[43m,\u001b[49m\n\u001b[32m    377\u001b[39m \u001b[43m            \u001b[49m\u001b[43mwidth\u001b[49m\u001b[43m=\u001b[49m\u001b[43mwidth\u001b[49m\u001b[43m \u001b[49m\u001b[38;5;129;43;01mor\u001b[39;49;00m\u001b[43m \u001b[49m\u001b[43mdefaults\u001b[49m\u001b[43m.\u001b[49m\u001b[43mdefault_width\u001b[49m\u001b[43m,\u001b[49m\n\u001b[32m    378\u001b[39m \u001b[43m            \u001b[49m\u001b[43mheight\u001b[49m\u001b[43m=\u001b[49m\u001b[43mheight\u001b[49m\u001b[43m \u001b[49m\u001b[38;5;129;43;01mor\u001b[39;49;00m\u001b[43m \u001b[49m\u001b[43mdefaults\u001b[49m\u001b[43m.\u001b[49m\u001b[43mdefault_height\u001b[49m\u001b[43m,\u001b[49m\n\u001b[32m    379\u001b[39m \u001b[43m            \u001b[49m\u001b[43mscale\u001b[49m\u001b[43m=\u001b[49m\u001b[43mscale\u001b[49m\u001b[43m \u001b[49m\u001b[38;5;129;43;01mor\u001b[39;49;00m\u001b[43m \u001b[49m\u001b[43mdefaults\u001b[49m\u001b[43m.\u001b[49m\u001b[43mdefault_scale\u001b[49m\u001b[43m,\u001b[49m\n\u001b[32m    380\u001b[39m \u001b[43m        \u001b[49m\u001b[43m)\u001b[49m\u001b[43m,\u001b[49m\n\u001b[32m    381\u001b[39m \u001b[43m        \u001b[49m\u001b[43mtopojson\u001b[49m\u001b[43m=\u001b[49m\u001b[43mdefaults\u001b[49m\u001b[43m.\u001b[49m\u001b[43mtopojson\u001b[49m\u001b[43m,\u001b[49m\n\u001b[32m    382\u001b[39m \u001b[43m        \u001b[49m\u001b[43mkopts\u001b[49m\u001b[43m=\u001b[49m\u001b[43m(\u001b[49m\n\u001b[32m    383\u001b[39m \u001b[43m            \u001b[49m\u001b[38;5;28;43mdict\u001b[39;49m\u001b[43m(\u001b[49m\n\u001b[32m    384\u001b[39m \u001b[43m                \u001b[49m\u001b[43mmathjax\u001b[49m\u001b[43m=\u001b[49m\u001b[43mdefaults\u001b[49m\u001b[43m.\u001b[49m\u001b[43mmathjax\u001b[49m\u001b[43m,\u001b[49m\n\u001b[32m    385\u001b[39m \u001b[43m            \u001b[49m\u001b[43m)\u001b[49m\n\u001b[32m    386\u001b[39m \u001b[43m            \u001b[49m\u001b[38;5;28;43;01mif\u001b[39;49;00m\u001b[43m \u001b[49m\u001b[43mdefaults\u001b[49m\u001b[43m.\u001b[49m\u001b[43mmathjax\u001b[49m\n\u001b[32m    387\u001b[39m \u001b[43m            \u001b[49m\u001b[38;5;28;43;01melse\u001b[39;49;00m\u001b[43m \u001b[49m\u001b[38;5;28;43;01mNone\u001b[39;49;00m\n\u001b[32m    388\u001b[39m \u001b[43m        \u001b[49m\u001b[43m)\u001b[49m\u001b[43m,\u001b[49m\n\u001b[32m    389\u001b[39m \u001b[43m    \u001b[49m\u001b[43m)\u001b[49m\n\u001b[32m    390\u001b[39m \u001b[38;5;28;01mexcept\u001b[39;00m ChromeNotFoundError:\n",
      "\u001b[36mFile \u001b[39m\u001b[32m~\\AppData\\Local\\Packages\\PythonSoftwareFoundation.Python.3.11_qbz5n2kfra8p0\\LocalCache\\local-packages\\Python311\\site-packages\\kaleido\\__init__.py:145\u001b[39m, in \u001b[36mcalc_fig_sync\u001b[39m\u001b[34m(*args, **kwargs)\u001b[39m\n\u001b[32m    144\u001b[39m \u001b[38;5;250m\u001b[39m\u001b[33;03m\"\"\"Call `calc_fig` but blocking.\"\"\"\u001b[39;00m\n\u001b[32m--> \u001b[39m\u001b[32m145\u001b[39m \u001b[38;5;28;01mreturn\u001b[39;00m \u001b[43m_async_thread_run\u001b[49m\u001b[43m(\u001b[49m\u001b[43mcalc_fig\u001b[49m\u001b[43m,\u001b[49m\u001b[43m \u001b[49m\u001b[43margs\u001b[49m\u001b[43m=\u001b[49m\u001b[43margs\u001b[49m\u001b[43m,\u001b[49m\u001b[43m \u001b[49m\u001b[43mkwargs\u001b[49m\u001b[43m=\u001b[49m\u001b[43mkwargs\u001b[49m\u001b[43m)\u001b[49m\n",
      "\u001b[36mFile \u001b[39m\u001b[32m~\\AppData\\Local\\Packages\\PythonSoftwareFoundation.Python.3.11_qbz5n2kfra8p0\\LocalCache\\local-packages\\Python311\\site-packages\\kaleido\\__init__.py:138\u001b[39m, in \u001b[36m_async_thread_run\u001b[39m\u001b[34m(func, args, kwargs)\u001b[39m\n\u001b[32m    137\u001b[39m \u001b[38;5;28;01mif\u001b[39;00m \u001b[38;5;28misinstance\u001b[39m(res, \u001b[38;5;167;01mBaseException\u001b[39;00m):\n\u001b[32m--> \u001b[39m\u001b[32m138\u001b[39m     \u001b[38;5;28;01mraise\u001b[39;00m res\n\u001b[32m    139\u001b[39m \u001b[38;5;28;01melse\u001b[39;00m:\n",
      "\u001b[36mFile \u001b[39m\u001b[32m~\\AppData\\Local\\Packages\\PythonSoftwareFoundation.Python.3.11_qbz5n2kfra8p0\\LocalCache\\local-packages\\Python311\\site-packages\\kaleido\\__init__.py:129\u001b[39m, in \u001b[36m_async_thread_run.<locals>.run\u001b[39m\u001b[34m(*args, **kwargs)\u001b[39m\n\u001b[32m    128\u001b[39m \u001b[38;5;28;01mtry\u001b[39;00m:\n\u001b[32m--> \u001b[39m\u001b[32m129\u001b[39m     q.put(\u001b[43masyncio\u001b[49m\u001b[43m.\u001b[49m\u001b[43mrun\u001b[49m\u001b[43m(\u001b[49m\u001b[43mfunc\u001b[49m\u001b[43m(\u001b[49m\u001b[43m*\u001b[49m\u001b[43margs\u001b[49m\u001b[43m,\u001b[49m\u001b[43m \u001b[49m\u001b[43m*\u001b[49m\u001b[43m*\u001b[49m\u001b[43mkwargs\u001b[49m\u001b[43m)\u001b[49m\u001b[43m)\u001b[49m)\n\u001b[32m    130\u001b[39m \u001b[38;5;28;01mexcept\u001b[39;00m \u001b[38;5;167;01mBaseException\u001b[39;00m \u001b[38;5;28;01mas\u001b[39;00m e:  \u001b[38;5;66;03m# noqa: BLE001\u001b[39;00m\n",
      "\u001b[36mFile \u001b[39m\u001b[32mC:\\Program Files\\WindowsApps\\PythonSoftwareFoundation.Python.3.11_3.11.2544.0_x64__qbz5n2kfra8p0\\Lib\\asyncio\\runners.py:190\u001b[39m, in \u001b[36mrun\u001b[39m\u001b[34m(main, debug)\u001b[39m\n\u001b[32m    189\u001b[39m \u001b[38;5;28;01mwith\u001b[39;00m Runner(debug=debug) \u001b[38;5;28;01mas\u001b[39;00m runner:\n\u001b[32m--> \u001b[39m\u001b[32m190\u001b[39m     \u001b[38;5;28;01mreturn\u001b[39;00m \u001b[43mrunner\u001b[49m\u001b[43m.\u001b[49m\u001b[43mrun\u001b[49m\u001b[43m(\u001b[49m\u001b[43mmain\u001b[49m\u001b[43m)\u001b[49m\n",
      "\u001b[36mFile \u001b[39m\u001b[32mC:\\Program Files\\WindowsApps\\PythonSoftwareFoundation.Python.3.11_3.11.2544.0_x64__qbz5n2kfra8p0\\Lib\\asyncio\\runners.py:118\u001b[39m, in \u001b[36mRunner.run\u001b[39m\u001b[34m(self, coro, context)\u001b[39m\n\u001b[32m    117\u001b[39m \u001b[38;5;28;01mtry\u001b[39;00m:\n\u001b[32m--> \u001b[39m\u001b[32m118\u001b[39m     \u001b[38;5;28;01mreturn\u001b[39;00m \u001b[38;5;28;43mself\u001b[39;49m\u001b[43m.\u001b[49m\u001b[43m_loop\u001b[49m\u001b[43m.\u001b[49m\u001b[43mrun_until_complete\u001b[49m\u001b[43m(\u001b[49m\u001b[43mtask\u001b[49m\u001b[43m)\u001b[49m\n\u001b[32m    119\u001b[39m \u001b[38;5;28;01mexcept\u001b[39;00m exceptions.CancelledError:\n",
      "\u001b[36mFile \u001b[39m\u001b[32mC:\\Program Files\\WindowsApps\\PythonSoftwareFoundation.Python.3.11_3.11.2544.0_x64__qbz5n2kfra8p0\\Lib\\asyncio\\base_events.py:654\u001b[39m, in \u001b[36mBaseEventLoop.run_until_complete\u001b[39m\u001b[34m(self, future)\u001b[39m\n\u001b[32m    652\u001b[39m     \u001b[38;5;28;01mraise\u001b[39;00m \u001b[38;5;167;01mRuntimeError\u001b[39;00m(\u001b[33m'\u001b[39m\u001b[33mEvent loop stopped before Future completed.\u001b[39m\u001b[33m'\u001b[39m)\n\u001b[32m--> \u001b[39m\u001b[32m654\u001b[39m \u001b[38;5;28;01mreturn\u001b[39;00m future.result()\n",
      "\u001b[36mFile \u001b[39m\u001b[32m~\\AppData\\Local\\Packages\\PythonSoftwareFoundation.Python.3.11_qbz5n2kfra8p0\\LocalCache\\local-packages\\Python311\\site-packages\\kaleido\\__init__.py:54\u001b[39m, in \u001b[36mcalc_fig\u001b[39m\u001b[34m(fig, path, opts, topojson, kopts)\u001b[39m\n\u001b[32m     53\u001b[39m kopts[\u001b[33m\"\u001b[39m\u001b[33mn\u001b[39m\u001b[33m\"\u001b[39m] = \u001b[32m1\u001b[39m\n\u001b[32m---> \u001b[39m\u001b[32m54\u001b[39m \u001b[38;5;28;01masync\u001b[39;00m \u001b[38;5;28;01mwith\u001b[39;00m \u001b[43mKaleido\u001b[49m\u001b[43m(\u001b[49m\u001b[43m*\u001b[49m\u001b[43m*\u001b[49m\u001b[43mkopts\u001b[49m\u001b[43m)\u001b[49m \u001b[38;5;28;01mas\u001b[39;00m k:\n\u001b[32m     55\u001b[39m     \u001b[38;5;28;01mreturn\u001b[39;00m \u001b[38;5;28;01mawait\u001b[39;00m k.calc_fig(\n\u001b[32m     56\u001b[39m         fig,\n\u001b[32m     57\u001b[39m         path=path,\n\u001b[32m     58\u001b[39m         opts=opts,\n\u001b[32m     59\u001b[39m         topojson=topojson,\n\u001b[32m     60\u001b[39m     )\n",
      "\u001b[36mFile \u001b[39m\u001b[32m~\\AppData\\Local\\Packages\\PythonSoftwareFoundation.Python.3.11_qbz5n2kfra8p0\\LocalCache\\local-packages\\Python311\\site-packages\\kaleido\\kaleido.py:128\u001b[39m, in \u001b[36mKaleido.__init__\u001b[39m\u001b[34m(self, *args, **kwargs)\u001b[39m\n\u001b[32m    127\u001b[39m \u001b[38;5;28;01mexcept\u001b[39;00m ChromeNotFoundError:\n\u001b[32m--> \u001b[39m\u001b[32m128\u001b[39m     \u001b[38;5;28;01mraise\u001b[39;00m ChromeNotFoundError(\n\u001b[32m    129\u001b[39m         \u001b[33m\"\u001b[39m\u001b[33mKaleido v1 and later requires Chrome to be installed. \u001b[39m\u001b[33m\"\u001b[39m\n\u001b[32m    130\u001b[39m         \u001b[33m\"\u001b[39m\u001b[33mTo install Chrome, use the CLI command `kaleido_get_chrome`, \u001b[39m\u001b[33m\"\u001b[39m\n\u001b[32m    131\u001b[39m         \u001b[33m\"\u001b[39m\u001b[33mor from Python, use either `kaleido.get_chrome()` \u001b[39m\u001b[33m\"\u001b[39m\n\u001b[32m    132\u001b[39m         \u001b[33m\"\u001b[39m\u001b[33mor `kaleido.get_chrome_sync()`.\u001b[39m\u001b[33m\"\u001b[39m,\n\u001b[32m    133\u001b[39m     ) \u001b[38;5;28;01mfrom\u001b[39;00m\u001b[38;5;250m \u001b[39m\u001b[34;01mChromeNotFoundError\u001b[39;00m\n\u001b[32m    135\u001b[39m \u001b[38;5;28;01mif\u001b[39;00m page \u001b[38;5;129;01mand\u001b[39;00m \u001b[38;5;28misinstance\u001b[39m(page, \u001b[38;5;28mstr\u001b[39m) \u001b[38;5;129;01mand\u001b[39;00m Path(page).is_file():\n",
      "\u001b[31mChromeNotFoundError\u001b[39m: Kaleido v1 and later requires Chrome to be installed. To install Chrome, use the CLI command `kaleido_get_chrome`, or from Python, use either `kaleido.get_chrome()` or `kaleido.get_chrome_sync()`.",
      "\nDuring handling of the above exception, another exception occurred:\n",
      "\u001b[31mRuntimeError\u001b[39m                              Traceback (most recent call last)",
      "\u001b[36mCell\u001b[39m\u001b[36m \u001b[39m\u001b[32mIn[12]\u001b[39m\u001b[32m, line 42\u001b[39m\n\u001b[32m     40\u001b[39m filename = \u001b[33m\"\u001b[39m\u001b[33mProduct_Substitutability.pdf\u001b[39m\u001b[33m\"\u001b[39m\n\u001b[32m     41\u001b[39m filepath = os.path.join(output_dir, filename)\n\u001b[32m---> \u001b[39m\u001b[32m42\u001b[39m \u001b[43mfig\u001b[49m\u001b[43m.\u001b[49m\u001b[43mwrite_image\u001b[49m\u001b[43m(\u001b[49m\u001b[43mfilepath\u001b[49m\u001b[43m,\u001b[49m\u001b[43m \u001b[49m\u001b[43mscale\u001b[49m\u001b[43m=\u001b[49m\u001b[32;43m2\u001b[39;49m\u001b[43m)\u001b[49m\n\u001b[32m     43\u001b[39m \u001b[38;5;28mprint\u001b[39m(\u001b[33mf\u001b[39m\u001b[33m\"\u001b[39m\u001b[33mPlot saved to: \u001b[39m\u001b[38;5;132;01m{\u001b[39;00mfilepath\u001b[38;5;132;01m}\u001b[39;00m\u001b[33m\"\u001b[39m)\n",
      "\u001b[36mFile \u001b[39m\u001b[32m~\\AppData\\Local\\Packages\\PythonSoftwareFoundation.Python.3.11_qbz5n2kfra8p0\\LocalCache\\local-packages\\Python311\\site-packages\\plotly\\basedatatypes.py:3911\u001b[39m, in \u001b[36mBaseFigure.write_image\u001b[39m\u001b[34m(self, *args, **kwargs)\u001b[39m\n\u001b[32m   3907\u001b[39m     \u001b[38;5;28;01mif\u001b[39;00m kwargs.get(\u001b[33m\"\u001b[39m\u001b[33mengine\u001b[39m\u001b[33m\"\u001b[39m, \u001b[38;5;28;01mNone\u001b[39;00m):\n\u001b[32m   3908\u001b[39m         warnings.warn(\n\u001b[32m   3909\u001b[39m             ENGINE_PARAM_DEPRECATION_MSG, \u001b[38;5;167;01mDeprecationWarning\u001b[39;00m, stacklevel=\u001b[32m2\u001b[39m\n\u001b[32m   3910\u001b[39m         )\n\u001b[32m-> \u001b[39m\u001b[32m3911\u001b[39m \u001b[38;5;28;01mreturn\u001b[39;00m \u001b[43mpio\u001b[49m\u001b[43m.\u001b[49m\u001b[43mwrite_image\u001b[49m\u001b[43m(\u001b[49m\u001b[38;5;28;43mself\u001b[39;49m\u001b[43m,\u001b[49m\u001b[43m \u001b[49m\u001b[43m*\u001b[49m\u001b[43margs\u001b[49m\u001b[43m,\u001b[49m\u001b[43m \u001b[49m\u001b[43m*\u001b[49m\u001b[43m*\u001b[49m\u001b[43mkwargs\u001b[49m\u001b[43m)\u001b[49m\n",
      "\u001b[36mFile \u001b[39m\u001b[32m~\\AppData\\Local\\Packages\\PythonSoftwareFoundation.Python.3.11_qbz5n2kfra8p0\\LocalCache\\local-packages\\Python311\\site-packages\\plotly\\io\\_kaleido.py:509\u001b[39m, in \u001b[36mwrite_image\u001b[39m\u001b[34m(fig, file, format, scale, width, height, validate, engine)\u001b[39m\n\u001b[32m    505\u001b[39m \u001b[38;5;28mformat\u001b[39m = infer_format(path, \u001b[38;5;28mformat\u001b[39m)\n\u001b[32m    507\u001b[39m \u001b[38;5;66;03m# Request image\u001b[39;00m\n\u001b[32m    508\u001b[39m \u001b[38;5;66;03m# Do this first so we don't create a file if image conversion fails\u001b[39;00m\n\u001b[32m--> \u001b[39m\u001b[32m509\u001b[39m img_data = \u001b[43mto_image\u001b[49m\u001b[43m(\u001b[49m\n\u001b[32m    510\u001b[39m \u001b[43m    \u001b[49m\u001b[43mfig\u001b[49m\u001b[43m,\u001b[49m\n\u001b[32m    511\u001b[39m \u001b[43m    \u001b[49m\u001b[38;5;28;43mformat\u001b[39;49m\u001b[43m=\u001b[49m\u001b[38;5;28;43mformat\u001b[39;49m\u001b[43m,\u001b[49m\n\u001b[32m    512\u001b[39m \u001b[43m    \u001b[49m\u001b[43mscale\u001b[49m\u001b[43m=\u001b[49m\u001b[43mscale\u001b[49m\u001b[43m,\u001b[49m\n\u001b[32m    513\u001b[39m \u001b[43m    \u001b[49m\u001b[43mwidth\u001b[49m\u001b[43m=\u001b[49m\u001b[43mwidth\u001b[49m\u001b[43m,\u001b[49m\n\u001b[32m    514\u001b[39m \u001b[43m    \u001b[49m\u001b[43mheight\u001b[49m\u001b[43m=\u001b[49m\u001b[43mheight\u001b[49m\u001b[43m,\u001b[49m\n\u001b[32m    515\u001b[39m \u001b[43m    \u001b[49m\u001b[43mvalidate\u001b[49m\u001b[43m=\u001b[49m\u001b[43mvalidate\u001b[49m\u001b[43m,\u001b[49m\n\u001b[32m    516\u001b[39m \u001b[43m    \u001b[49m\u001b[43mengine\u001b[49m\u001b[43m=\u001b[49m\u001b[43mengine\u001b[49m\u001b[43m,\u001b[49m\n\u001b[32m    517\u001b[39m \u001b[43m\u001b[49m\u001b[43m)\u001b[49m\n\u001b[32m    519\u001b[39m \u001b[38;5;66;03m# Open file\u001b[39;00m\n\u001b[32m    520\u001b[39m \u001b[38;5;28;01mif\u001b[39;00m path \u001b[38;5;129;01mis\u001b[39;00m \u001b[38;5;28;01mNone\u001b[39;00m:\n\u001b[32m    521\u001b[39m     \u001b[38;5;66;03m# We previously failed to make sense of `file` as a pathlib object.\u001b[39;00m\n\u001b[32m    522\u001b[39m     \u001b[38;5;66;03m# Attempt to write to `file` as an open file descriptor.\u001b[39;00m\n",
      "\u001b[36mFile \u001b[39m\u001b[32m~\\AppData\\Local\\Packages\\PythonSoftwareFoundation.Python.3.11_qbz5n2kfra8p0\\LocalCache\\local-packages\\Python311\\site-packages\\plotly\\io\\_kaleido.py:391\u001b[39m, in \u001b[36mto_image\u001b[39m\u001b[34m(fig, format, width, height, scale, validate, engine)\u001b[39m\n\u001b[32m    373\u001b[39m         img_bytes = kaleido.calc_fig_sync(\n\u001b[32m    374\u001b[39m             fig_dict,\n\u001b[32m    375\u001b[39m             opts=\u001b[38;5;28mdict\u001b[39m(\n\u001b[32m   (...)\u001b[39m\u001b[32m    388\u001b[39m             ),\n\u001b[32m    389\u001b[39m         )\n\u001b[32m    390\u001b[39m     \u001b[38;5;28;01mexcept\u001b[39;00m ChromeNotFoundError:\n\u001b[32m--> \u001b[39m\u001b[32m391\u001b[39m         \u001b[38;5;28;01mraise\u001b[39;00m \u001b[38;5;167;01mRuntimeError\u001b[39;00m(PLOTLY_GET_CHROME_ERROR_MSG)\n\u001b[32m    393\u001b[39m \u001b[38;5;28;01melse\u001b[39;00m:\n\u001b[32m    394\u001b[39m     \u001b[38;5;66;03m# Kaleido v0\u001b[39;00m\n\u001b[32m    395\u001b[39m     \u001b[38;5;28;01mif\u001b[39;00m ENABLE_KALEIDO_V0_DEPRECATION_WARNINGS:\n",
      "\u001b[31mRuntimeError\u001b[39m: \n\nKaleido requires Google Chrome to be installed.\n\nEither download and install Chrome yourself following Google's instructions for your operating system,\nor install it from your terminal by running:\n\n    $ plotly_get_chrome\n\n"
     ]
    }
   ],
   "source": [
    "#create plot for substitutability\n",
    "\n",
    "df = pd.read_csv('io_codes_alph.csv')\n",
    "\n",
    "commodities = df.groupby('comm_group')['item'].nunique().reset_index()\n",
    "commodities.rename(columns={'item': 'item_count'}, inplace=True)\n",
    "commodities = commodities.sort_values(by='item_count', ascending=True)\n",
    "\n",
    "items = df.groupby(['comm_group', 'item']).size().reset_index(name='count')\n",
    "\n",
    "MAX_LABEL_LENGTH = 15\n",
    "items['item_display'] = items['item'].apply(\n",
    "    lambda x: x[:MAX_LABEL_LENGTH-3] + '...' if len(x) > MAX_LABEL_LENGTH else x\n",
    ")\n",
    "\n",
    "fig = px.treemap(items,\n",
    "                 path=['comm_group', 'item_display'], # Added a root node, using truncated labels\n",
    "                 values='count',\n",
    "                 title='Product Substitutability within Commodity Groups'\n",
    "                )\n",
    "fig.update_traces(textfont_size=16)\n",
    "\n",
    "fig.update_layout(\n",
    "    uniformtext=dict(\n",
    "        minsize=7,\n",
    "        mode='show'  # 'show' ensures text is always visible, 'hide' will hide it if it doesn't fit\n",
    "    ),\n",
    "    margin=dict(l=20, r=20, b=20, t=40, pad=0),\n",
    "    title=dict(\n",
    "        x=0.5,\n",
    "        xanchor='center',\n",
    "        yanchor='top',\n",
    "        font=dict(size=20)\n",
    "        ))\n",
    "fig.show()\n",
    "\n",
    "\n",
    "output_dir = \"output\"\n",
    "os.makedirs(output_dir, exist_ok=True)\n",
    "filename = \"Product_Substitutability.pdf\"\n",
    "filepath = os.path.join(output_dir, filename)\n",
    "fig.write_image(filepath, scale=2)\n",
    "print(f\"Plot saved to: {filepath}\")"
   ]
  }
 ],
 "metadata": {
  "colab": {
   "authorship_tag": "ABX9TyOqkpBhhXaf4uqaH5ByBe9M",
   "provenance": []
  },
  "kernelspec": {
   "display_name": "Python 3",
   "language": "python",
   "name": "python3"
  },
  "language_info": {
   "codemirror_mode": {
    "name": "ipython",
    "version": 3
   },
   "file_extension": ".py",
   "mimetype": "text/x-python",
   "name": "python",
   "nbconvert_exporter": "python",
   "pygments_lexer": "ipython3",
   "version": "3.11.9"
  }
 },
 "nbformat": 4,
 "nbformat_minor": 1
}
